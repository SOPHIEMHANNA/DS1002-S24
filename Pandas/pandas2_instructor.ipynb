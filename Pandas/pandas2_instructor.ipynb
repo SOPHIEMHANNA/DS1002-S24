{
  "cells": [
    {
      "cell_type": "markdown",
      "metadata": {
        "id": "view-in-github",
        "colab_type": "text"
      },
      "source": [
        "<a href=\"https://colab.research.google.com/github/aaron-abrams-uva/DS1002-S24/blob/main/Pandas/pandas2_instructor.ipynb\" target=\"_parent\"><img src=\"https://colab.research.google.com/assets/colab-badge.svg\" alt=\"Open In Colab\"/></a>"
      ]
    },
    {
      "cell_type": "markdown",
      "metadata": {
        "id": "PmE7EPqF455s"
      },
      "source": [
        "## Pandas DataFrames II\n",
        "\n",
        "\n",
        "### University of Virginia\n",
        "### Programming for Data Science\n",
        "\n",
        "---  \n",
        "\n",
        "### PREREQUISITES\n",
        "- variables\n",
        "- data types\n",
        "- operators\n",
        "- numpy arrays\n",
        "\n",
        "\n",
        "### SOURCES\n",
        "\n",
        "- sort_values()  \n",
        "https://pandas.pydata.org/pandas-docs/stable/reference/api/pandas.DataFrame.sort_values.html\n",
        "\n",
        "\n",
        "- value_counts()  \n",
        "https://pandas.pydata.org/pandas-docs/stable/reference/api/pandas.Series.value_counts.html\n",
        "\n",
        "\n",
        "- to_csv() : saving to CSV file  \n",
        "https://pandas.pydata.org/pandas-docs/stable/reference/api/pandas.DataFrame.to_csv.html\n",
        "\n",
        "\n",
        "- read_csv() : load CSV file into DataFrame  \n",
        "https://pandas.pydata.org/pandas-docs/stable/reference/api/pandas.read_csv.html\n",
        "\n",
        "\n",
        "- dropna() : drop missing data  \n",
        "https://pandas.pydata.org/pandas-docs/stable/reference/api/pandas.DataFrame.dropna.html\n",
        "\n",
        "\n",
        "- fillna() : impute missing data  \n",
        "https://pandas.pydata.org/pandas-docs/stable/reference/api/pandas.DataFrame.fillna.html\n",
        "\n",
        "\n",
        "### OBJECTIVES\n",
        "- Introduce pandas dataframes and the essential operations"
      ]
    },
    {
      "cell_type": "code",
      "execution_count": null,
      "metadata": {
        "id": "lY9QIRwZ455u"
      },
      "outputs": [],
      "source": [
        "#import dependencies\n",
        "\n",
        "import pandas as pd"
      ]
    },
    {
      "cell_type": "markdown",
      "metadata": {
        "tags": [],
        "id": "H7SAG42-455v"
      },
      "source": [
        "# Load Iris Dataset\n",
        "\n",
        "Let's load a bigger data set to explore more functionality.\n",
        "\n",
        "The function `load_dataset()` in the `seaborn` package loads the built-in dataset.\n",
        "\n",
        "You may need to install `seaborn` first  \n",
        "\n",
        "`pip3 install seaborn`\n",
        "\n",
        "`pip install seaborn`"
      ]
    },
    {
      "cell_type": "code",
      "execution_count": null,
      "metadata": {
        "id": "Pob1fqKU455w"
      },
      "outputs": [],
      "source": [
        "import seaborn as sns\n",
        "iris = sns.load_dataset('iris')"
      ]
    },
    {
      "cell_type": "markdown",
      "metadata": {
        "id": "0b2p8yb-455w"
      },
      "source": [
        "Check the data type of `iris`:"
      ]
    },
    {
      "cell_type": "code",
      "execution_count": null,
      "metadata": {
        "id": "6alvxjpb455w"
      },
      "outputs": [],
      "source": [
        "type(iris)"
      ]
    },
    {
      "cell_type": "markdown",
      "metadata": {
        "id": "Axw9pKHd455y"
      },
      "source": [
        "**`.head()`**\n",
        "- first records in dataframe"
      ]
    },
    {
      "cell_type": "code",
      "execution_count": null,
      "metadata": {
        "id": "BZjBZoFF455y"
      },
      "outputs": [],
      "source": [
        "iris.head()"
      ]
    },
    {
      "cell_type": "code",
      "execution_count": null,
      "metadata": {
        "id": "m32kKdyB455y"
      },
      "outputs": [],
      "source": [
        "iris.head(10)"
      ]
    },
    {
      "cell_type": "markdown",
      "metadata": {
        "id": "lXSwnUnH455z"
      },
      "source": [
        "**`.tail()`**\n",
        "* last records in dataframe"
      ]
    },
    {
      "cell_type": "code",
      "execution_count": null,
      "metadata": {
        "id": "LMEirDws455z"
      },
      "outputs": [],
      "source": [
        "iris.tail()"
      ]
    },
    {
      "cell_type": "code",
      "execution_count": null,
      "metadata": {
        "id": "GVOOpDEu455z"
      },
      "outputs": [],
      "source": [
        "iris.tail(10)"
      ]
    },
    {
      "cell_type": "markdown",
      "metadata": {
        "id": "aiEmVkrQ455z"
      },
      "source": [
        "## Inspect metadata"
      ]
    },
    {
      "cell_type": "markdown",
      "metadata": {
        "id": "vkfA-LMk455z"
      },
      "source": [
        "**`.dtypes`**"
      ]
    },
    {
      "cell_type": "code",
      "execution_count": null,
      "metadata": {
        "id": "HTl5u9mZ455z"
      },
      "outputs": [],
      "source": [
        "iris.dtypes"
      ]
    },
    {
      "cell_type": "markdown",
      "metadata": {
        "id": "DsAVQw-C4550"
      },
      "source": [
        "**`.shape`**\n",
        "* (rows, columns):"
      ]
    },
    {
      "cell_type": "code",
      "execution_count": null,
      "metadata": {
        "id": "_mJFxPw-4550"
      },
      "outputs": [],
      "source": [
        "iris.shape"
      ]
    },
    {
      "cell_type": "markdown",
      "metadata": {
        "id": "aOyRmV724550"
      },
      "source": [
        "**`len()`**\n",
        "* returns row (record) count:"
      ]
    },
    {
      "cell_type": "code",
      "execution_count": null,
      "metadata": {
        "id": "4NPBiiE_4550"
      },
      "outputs": [],
      "source": [
        "len(iris)"
      ]
    },
    {
      "cell_type": "markdown",
      "metadata": {
        "id": "1k7uYziK4550"
      },
      "source": [
        "**`.columns`**  \n",
        "* column names:"
      ]
    },
    {
      "cell_type": "code",
      "execution_count": null,
      "metadata": {
        "id": "nYrJnH7z4550"
      },
      "outputs": [],
      "source": [
        "iris.columns"
      ]
    },
    {
      "cell_type": "markdown",
      "metadata": {
        "id": "0sf9ndTm4550"
      },
      "source": [
        "**`.info()`**"
      ]
    },
    {
      "cell_type": "code",
      "execution_count": null,
      "metadata": {
        "id": "mnEhuatc4551"
      },
      "outputs": [],
      "source": [
        "iris.info()"
      ]
    },
    {
      "cell_type": "markdown",
      "metadata": {
        "id": "CcMepAh_4551"
      },
      "source": [
        "## Set the index"
      ]
    },
    {
      "cell_type": "markdown",
      "metadata": {
        "id": "r1Q0J9ti4551"
      },
      "source": [
        "**`.index`**"
      ]
    },
    {
      "cell_type": "code",
      "execution_count": null,
      "metadata": {
        "id": "i6Wdsnnw4551"
      },
      "outputs": [],
      "source": [
        "iris.index"
      ]
    },
    {
      "cell_type": "markdown",
      "metadata": {
        "id": "cwZ9EQ4j4551"
      },
      "source": [
        "**`.name`**\n",
        "* name the index 'obs_id'"
      ]
    },
    {
      "cell_type": "code",
      "execution_count": null,
      "metadata": {
        "id": "3GDfX2lM4551"
      },
      "outputs": [],
      "source": [
        "iris.index.name = 'obs_id'\n",
        "iris"
      ]
    },
    {
      "cell_type": "markdown",
      "metadata": {
        "id": "RrbP5S0j4551"
      },
      "source": [
        "**`reset_index`**"
      ]
    },
    {
      "cell_type": "code",
      "execution_count": null,
      "metadata": {
        "id": "4ZHCptUx4552"
      },
      "outputs": [],
      "source": [
        "iris.reset_index()"
      ]
    },
    {
      "cell_type": "markdown",
      "metadata": {
        "id": "8dQiRMd64552"
      },
      "source": [
        "We can also redefine indexes to reflect the logic of our data.\n",
        "\n",
        "In this data set, the species of the flower is part of its **identity**, so it can be part of the index.\n",
        "\n",
        "(Note that is also a label that can be used for training a model to predict the species of an iris flower. In that use case, the column would be pulled out into a separate vector.)"
      ]
    },
    {
      "cell_type": "markdown",
      "metadata": {
        "id": "7UPNIAlZ4552"
      },
      "source": [
        "**`.set_index`**"
      ]
    },
    {
      "cell_type": "code",
      "execution_count": null,
      "metadata": {
        "id": "PYGBSaP04552"
      },
      "outputs": [],
      "source": [
        "iris_w_idx = iris.reset_index().set_index(['species','obs_id'])"
      ]
    },
    {
      "cell_type": "code",
      "execution_count": null,
      "metadata": {
        "id": "Nn7FA7NP4552"
      },
      "outputs": [],
      "source": [
        "#@title { vertical-output: true}\n",
        "pd.options.display.max_rows = 15\n",
        "iris_w_idx"
      ]
    },
    {
      "cell_type": "markdown",
      "metadata": {
        "id": "ge_fftmD4552"
      },
      "source": [
        "# Row Selection (Filtering)"
      ]
    },
    {
      "cell_type": "markdown",
      "metadata": {
        "id": "ofJoSe_e4552"
      },
      "source": [
        "**`iloc[]`**\n",
        "\n",
        "You can extract rows using **indexes** with `iloc[]`.\n",
        "\n"
      ]
    },
    {
      "cell_type": "code",
      "execution_count": null,
      "metadata": {
        "id": "Ap5FZsIm4552"
      },
      "outputs": [],
      "source": [
        "# This fetches row 3, and all columns:\n",
        "\n",
        "iris.iloc[2]"
      ]
    },
    {
      "cell_type": "markdown",
      "metadata": {
        "id": "TTi2Zjep4552"
      },
      "source": [
        "fetch rows with indices 1,2 (the right endpoint is exclusive), and all columns."
      ]
    },
    {
      "cell_type": "code",
      "execution_count": null,
      "metadata": {
        "id": "nYFVzWvG4553"
      },
      "outputs": [],
      "source": [
        "iris.iloc[1:3]"
      ]
    },
    {
      "cell_type": "markdown",
      "metadata": {
        "id": "gWiTVRdQ4553"
      },
      "source": [
        "fetch rows with indices 1,2 and first three columns (positions 0, 1, 2)"
      ]
    },
    {
      "cell_type": "code",
      "execution_count": null,
      "metadata": {
        "id": "KR9pSNud4553"
      },
      "outputs": [],
      "source": [
        "iris.iloc[1:3, 0:3]"
      ]
    },
    {
      "cell_type": "markdown",
      "metadata": {
        "id": "6XSHlAV44553"
      },
      "source": [
        "You can apply slices to column names too. You don't need `.iloc[]` here."
      ]
    },
    {
      "cell_type": "code",
      "execution_count": null,
      "metadata": {
        "id": "Tw6Mtuo74553"
      },
      "outputs": [],
      "source": [
        "iris.columns[0:3]"
      ]
    },
    {
      "cell_type": "markdown",
      "metadata": {
        "id": "T6EFvBB54553"
      },
      "source": [
        "## `.loc[]`"
      ]
    },
    {
      "cell_type": "markdown",
      "metadata": {
        "id": "nzIGcmeG4553"
      },
      "source": [
        "Filtering can also be done with `.loc[]`. This uses the row, column labels (names)."
      ]
    },
    {
      "cell_type": "markdown",
      "metadata": {
        "id": "HzQahira4554"
      },
      "source": [
        "Here we ask for rows with labels (indexes) 1-3, and it gives exactly that  \n",
        "`.iloc[]` returned rows with indices 1,2.\n",
        "\n",
        "**Author note: This is by far the more useful of the two in my experience.**"
      ]
    },
    {
      "cell_type": "code",
      "execution_count": null,
      "metadata": {
        "id": "WqONiFDu4554"
      },
      "outputs": [],
      "source": [
        "iris.loc[1:3]"
      ]
    },
    {
      "cell_type": "markdown",
      "metadata": {
        "id": "eNBfxny-4554"
      },
      "source": [
        "Subset on columns with column name (as a string) or list of strings"
      ]
    },
    {
      "cell_type": "code",
      "execution_count": null,
      "metadata": {
        "id": "E_ohdql44554"
      },
      "outputs": [],
      "source": [
        "iris.loc[1:3, ['sepal_length','petal_width']]"
      ]
    },
    {
      "cell_type": "markdown",
      "metadata": {
        "id": "N74ZfP5y4554"
      },
      "source": [
        "Select all rows, specific columns"
      ]
    },
    {
      "cell_type": "code",
      "execution_count": null,
      "metadata": {
        "id": "Hh9xAEdZ4554"
      },
      "outputs": [],
      "source": [
        "iris.loc[:, ['sepal_length','petal_width']]"
      ]
    },
    {
      "cell_type": "markdown",
      "metadata": {
        "id": "_NU6uqNW4554"
      },
      "source": [
        "## `.loc[]` with MultiIndex"
      ]
    },
    {
      "cell_type": "code",
      "execution_count": null,
      "metadata": {
        "id": "c7N2-2PR4554"
      },
      "outputs": [],
      "source": [
        "iris_w_idx.loc['versicolor']"
      ]
    },
    {
      "cell_type": "code",
      "execution_count": null,
      "metadata": {
        "id": "Z33Uihud4554"
      },
      "outputs": [],
      "source": [
        "iris_w_idx.loc['setosa', 'sepal_length'].head()"
      ]
    },
    {
      "cell_type": "code",
      "execution_count": null,
      "metadata": {
        "id": "oHqkMYbN4554"
      },
      "outputs": [],
      "source": [
        "iris_w_idx.loc['setosa', 'sepal_length'].to_frame().head()"
      ]
    },
    {
      "cell_type": "markdown",
      "metadata": {
        "id": "fXhFbUqc4555"
      },
      "source": [
        "We use a tuple to index multiple index levels.\n",
        "\n",
        "Note that you can't pass slices here -- and this where indexing can get sticky."
      ]
    },
    {
      "cell_type": "code",
      "execution_count": null,
      "metadata": {
        "id": "nKpVyt7W4555"
      },
      "outputs": [],
      "source": [
        "iris_w_idx.loc[('versicolor', 52)]"
      ]
    },
    {
      "cell_type": "markdown",
      "metadata": {
        "id": "7ZK0d4X84555"
      },
      "source": [
        "## Another Example"
      ]
    },
    {
      "cell_type": "code",
      "execution_count": null,
      "metadata": {
        "id": "7lDjAlyW4555"
      },
      "outputs": [],
      "source": [
        "df_cat = pd.DataFrame(\n",
        "    index=['burmese', 'persian', 'maine_coone'],\n",
        "    columns=['x'],\n",
        "    data=[2,1,3]\n",
        ")"
      ]
    },
    {
      "cell_type": "code",
      "execution_count": null,
      "metadata": {
        "id": "xymftseG4555"
      },
      "outputs": [],
      "source": [
        "df_cat"
      ]
    },
    {
      "cell_type": "code",
      "execution_count": null,
      "metadata": {
        "id": "ogS9vpMw4555"
      },
      "outputs": [],
      "source": [
        "df_cat.iloc[:2]"
      ]
    },
    {
      "cell_type": "code",
      "execution_count": null,
      "metadata": {
        "id": "RgnZRSUb4555"
      },
      "outputs": [],
      "source": [
        "df_cat.iloc[0:1]"
      ]
    },
    {
      "cell_type": "code",
      "execution_count": null,
      "metadata": {
        "id": "eqpsdiY64555"
      },
      "outputs": [],
      "source": [
        "df_cat.loc['burmese']"
      ]
    },
    {
      "cell_type": "code",
      "execution_count": null,
      "metadata": {
        "id": "YUZp2xby4555"
      },
      "outputs": [],
      "source": [
        "df_cat.loc[['burmese','maine_coone']]"
      ]
    },
    {
      "cell_type": "markdown",
      "metadata": {
        "id": "YMc-dskB4555"
      },
      "source": [
        "# Boolean Filtering\n",
        "\n",
        "It's very common to subset a dataframe based on some condition on the data.\n",
        "\n",
        "🔑 Note that even though we are filtering rows, we are not using `.loc[]` or `.iloc[]` here.\n",
        "\n",
        "Pandas knows what to do if you pass a boolean structure."
      ]
    },
    {
      "cell_type": "code",
      "execution_count": null,
      "metadata": {
        "id": "6gVUsXC04556"
      },
      "outputs": [],
      "source": [
        "iris.sepal_length >= 7.5"
      ]
    },
    {
      "cell_type": "code",
      "execution_count": null,
      "metadata": {
        "id": "0HzlYdYR4556"
      },
      "outputs": [],
      "source": [
        "iris[iris.sepal_length >= 7.5]"
      ]
    },
    {
      "cell_type": "code",
      "execution_count": null,
      "metadata": {
        "id": "l2ADa7Is4556"
      },
      "outputs": [],
      "source": [
        "iris[(iris['sepal_length' ]>= 4.5) & (iris['sepal_length'] <= 4.7)]"
      ]
    },
    {
      "cell_type": "markdown",
      "metadata": {
        "id": "gWg3r78W4556"
      },
      "source": [
        "## Masking"
      ]
    },
    {
      "cell_type": "markdown",
      "metadata": {
        "id": "qXmccJsN4556"
      },
      "source": [
        "Here's an example of **masking** using boolean conditions passed to the dataframe selector:"
      ]
    },
    {
      "cell_type": "markdown",
      "metadata": {
        "id": "a1CExhl_4556"
      },
      "source": [
        "Here are the **values** for the feature `sepal length`:"
      ]
    },
    {
      "cell_type": "code",
      "execution_count": null,
      "metadata": {
        "id": "CqthFrr34556"
      },
      "outputs": [],
      "source": [
        "iris.sepal_length.values"
      ]
    },
    {
      "cell_type": "markdown",
      "metadata": {
        "id": "NT2T737P4556"
      },
      "source": [
        "And here are **the boolean values** generated by applying a comparison operator to those values:"
      ]
    },
    {
      "cell_type": "code",
      "execution_count": null,
      "metadata": {
        "id": "UFz2f12M4556"
      },
      "outputs": [],
      "source": [
        "mask = iris.sepal_length >= 7.5"
      ]
    },
    {
      "cell_type": "code",
      "execution_count": null,
      "metadata": {
        "id": "acyp_t6j4557"
      },
      "outputs": [],
      "source": [
        "mask.values"
      ]
    },
    {
      "cell_type": "markdown",
      "metadata": {
        "id": "Af8TUrpm4557"
      },
      "source": [
        "The two sets of values have the same shape.\n",
        "\n",
        "We can now overlay the logical values over the numeric ones and keep only what is `True`:"
      ]
    },
    {
      "cell_type": "code",
      "execution_count": null,
      "metadata": {
        "id": "PXvxtcDZ4557"
      },
      "outputs": [],
      "source": [
        "iris.sepal_length[mask].values"
      ]
    },
    {
      "cell_type": "markdown",
      "metadata": {
        "id": "b_Vk_OxX4557"
      },
      "source": [
        "# Working with Missing Data\n",
        "\n",
        "Pandas primarily uses the data type `np.nan` from NumPy to represent missing data."
      ]
    },
    {
      "cell_type": "code",
      "execution_count": null,
      "metadata": {
        "id": "NFhgYmee4557"
      },
      "outputs": [],
      "source": [
        "import numpy as np"
      ]
    },
    {
      "cell_type": "code",
      "execution_count": null,
      "metadata": {
        "id": "0iNiNUBy4557"
      },
      "outputs": [],
      "source": [
        "df_miss = pd.DataFrame({\n",
        "    'x':[2, np.nan, 1],\n",
        "    'y':[np.nan, np.nan, 6]}\n",
        ")\n",
        "df_miss.dtypes"
      ]
    },
    {
      "cell_type": "code",
      "execution_count": null,
      "metadata": {
        "id": "1_cuRtDl4557"
      },
      "outputs": [],
      "source": [
        "df_miss"
      ]
    },
    {
      "cell_type": "markdown",
      "metadata": {
        "id": "gURhkR9J4557"
      },
      "source": [
        "## `.dropna()`\n",
        "\n",
        "This will drop all rows with missing data in any column.\n",
        "\n",
        "[Details](https://pandas.pydata.org/pandas-docs/stable/reference/api/pandas.DataFrame.dropna.html)"
      ]
    },
    {
      "cell_type": "code",
      "execution_count": null,
      "metadata": {
        "id": "GtAedLOW4557"
      },
      "outputs": [],
      "source": [
        "df_drop_all = df_miss.dropna()\n",
        "df_drop_all"
      ]
    },
    {
      "cell_type": "markdown",
      "metadata": {
        "id": "ADAslRAm4558"
      },
      "source": [
        "The `subset` parameter takes a list of column names to specify which columns should test for missing values."
      ]
    },
    {
      "cell_type": "code",
      "execution_count": null,
      "metadata": {
        "id": "VB0mhPxx4558"
      },
      "outputs": [],
      "source": [
        "df_drop_x = df_miss.dropna(subset=['x'])\n",
        "df_drop_x"
      ]
    },
    {
      "cell_type": "markdown",
      "metadata": {
        "id": "BLWNw_b34558"
      },
      "source": [
        "## `.fillna()`\n",
        "\n",
        "This will replace missing values with whatever you set it to, e.g. 0's.\n",
        "\n",
        "[Details](https://pandas.pydata.org/pandas-docs/stable/reference/api/pandas.DataFrame.fillna.html)\n",
        "\n",
        "We can pass the results of an operation -- for example to peform simple imputation, we can replace missing values in each column with the median value of the respective column:"
      ]
    },
    {
      "cell_type": "code",
      "execution_count": null,
      "metadata": {
        "id": "2OwLlwon4558"
      },
      "outputs": [],
      "source": [
        "df_filled = df_miss.fillna(df_miss.median())"
      ]
    },
    {
      "cell_type": "code",
      "execution_count": null,
      "metadata": {
        "id": "rPFr8O_O4558"
      },
      "outputs": [],
      "source": [
        "df_filled"
      ]
    },
    {
      "cell_type": "code",
      "source": [
        "iris.median()"
      ],
      "metadata": {
        "id": "PuG8AhzK65BA"
      },
      "execution_count": null,
      "outputs": []
    },
    {
      "cell_type": "markdown",
      "metadata": {
        "tags": [],
        "id": "kzbcJHrZ4558"
      },
      "source": [
        "# Sorting"
      ]
    },
    {
      "cell_type": "markdown",
      "metadata": {
        "tags": [],
        "id": "3xw2n1WB4558"
      },
      "source": [
        "**`.sort_values()`**\n",
        "\n",
        "Sort by values\n",
        "- `by` parameter takes string or list of strings\n",
        "- `ascending` takes True or False\n",
        "- `inplace` will save sorted values into the df\n",
        "\n",
        "[Details](https://pandas.pydata.org/pandas-docs/stable/reference/api/pandas.DataFrame.sort_values.html)"
      ]
    },
    {
      "cell_type": "code",
      "execution_count": null,
      "metadata": {
        "id": "L3Kqp3wh4558"
      },
      "outputs": [],
      "source": [
        "iris.sort_values(by=['sepal_length','petal_width'])"
      ]
    },
    {
      "cell_type": "markdown",
      "metadata": {
        "id": "5DrWHSfu4558"
      },
      "source": [
        "## `.sort_index()`\n",
        "\n",
        "Sort by index. Example sorts by descending index"
      ]
    },
    {
      "cell_type": "code",
      "execution_count": null,
      "metadata": {
        "id": "Hf7rHHjP4558"
      },
      "outputs": [],
      "source": [
        "iris.sort_index(axis=0, ascending=False)"
      ]
    },
    {
      "cell_type": "markdown",
      "metadata": {
        "id": "7GuqA_gJ4558"
      },
      "source": [
        "# Statistics"
      ]
    },
    {
      "cell_type": "markdown",
      "metadata": {
        "tags": [],
        "id": "P1Tj6duv4558"
      },
      "source": [
        "**`describe()`**"
      ]
    },
    {
      "cell_type": "code",
      "execution_count": null,
      "metadata": {
        "id": "MeyptGab4558"
      },
      "outputs": [],
      "source": [
        "iris.describe()"
      ]
    },
    {
      "cell_type": "code",
      "execution_count": null,
      "metadata": {
        "id": "HbJdPbqV4558"
      },
      "outputs": [],
      "source": [
        "iris.describe().T"
      ]
    },
    {
      "cell_type": "code",
      "execution_count": null,
      "metadata": {
        "id": "ToZbUPSe4559"
      },
      "outputs": [],
      "source": [
        "iris.species.describe()"
      ]
    },
    {
      "cell_type": "code",
      "source": [
        "iris.species[iris.species =='virginica'].count()"
      ],
      "metadata": {
        "id": "lcYFBJE388WB"
      },
      "execution_count": null,
      "outputs": []
    },
    {
      "cell_type": "code",
      "source": [
        "# set(iris.species.values)\n",
        "# test = iris.species.values\n",
        "# type(test)\n",
        "# type(iris.species)\n",
        "# iris.species.drop_duplicates().values"
      ],
      "metadata": {
        "id": "EwNyXwes_GiR"
      },
      "execution_count": null,
      "outputs": []
    },
    {
      "cell_type": "code",
      "execution_count": null,
      "metadata": {
        "id": "jpmHRgN14559"
      },
      "outputs": [],
      "source": [
        "iris.sepal_length.describe()"
      ]
    },
    {
      "cell_type": "markdown",
      "metadata": {
        "id": "RK4fthNZ4559"
      },
      "source": [
        "**`value_counts()`**\n",
        "\n",
        "This is **a highly useful** function for showing the frequency for each distinct value.  \n",
        "\n",
        "Parameters give the ability to sort by count or index, normalize, and more.  \n",
        "\n",
        "[Details](https://pandas.pydata.org/pandas-docs/stable/reference/api/pandas.Series.value_counts.html)"
      ]
    },
    {
      "cell_type": "code",
      "execution_count": null,
      "metadata": {
        "id": "E2mvLpgh4559"
      },
      "outputs": [],
      "source": [
        "iris.species.value_counts()"
      ]
    },
    {
      "cell_type": "markdown",
      "metadata": {
        "id": "IsbFsR7J4559"
      },
      "source": [
        "Show percentages instead of counts"
      ]
    },
    {
      "cell_type": "code",
      "execution_count": null,
      "metadata": {
        "id": "dxmX6wVy4559"
      },
      "outputs": [],
      "source": [
        "iris.species.value_counts(normalize=True)"
      ]
    },
    {
      "cell_type": "markdown",
      "metadata": {
        "id": "HHJYNjTe4559"
      },
      "source": [
        "The methods returns a series that can be converted into a dataframe."
      ]
    },
    {
      "cell_type": "code",
      "execution_count": null,
      "metadata": {
        "id": "3w6MhxDz4559"
      },
      "outputs": [],
      "source": [
        "SEPAL_LENGTH = iris.sepal_length.value_counts().to_frame('n')"
      ]
    },
    {
      "cell_type": "code",
      "execution_count": null,
      "metadata": {
        "id": "cSksq66-4559"
      },
      "outputs": [],
      "source": [
        "SEPAL_LENGTH"
      ]
    },
    {
      "cell_type": "markdown",
      "metadata": {
        "id": "vpt6hrLG4559"
      },
      "source": [
        "You can run `.value_counts()` on a column to get a kind of histogram:"
      ]
    },
    {
      "cell_type": "code",
      "execution_count": null,
      "metadata": {
        "id": "6VwYcO8K4559"
      },
      "outputs": [],
      "source": [
        "# SEPAL_LENGTH.sort_index().plot.bar(figsize=(8,4), rot=45);\n",
        "SEPAL_LENGTH.sort_index().plot.bar(rot=90);\n",
        "# SEPAL_LENGTH.sort_index()"
      ]
    },
    {
      "cell_type": "markdown",
      "metadata": {
        "id": "6nwOzhK8455-"
      },
      "source": [
        "**`.mean()`**"
      ]
    },
    {
      "cell_type": "markdown",
      "metadata": {
        "id": "LDDBQ0nr455-"
      },
      "source": [
        "Operations like this generally exclude missing data.\n",
        "\n",
        "So, it is important to convert missing data to values if they need to be considered in the denominator."
      ]
    },
    {
      "cell_type": "code",
      "execution_count": null,
      "metadata": {
        "id": "Y2VJmxe7455-"
      },
      "outputs": [],
      "source": [
        "iris.sepal_length.mean()"
      ]
    },
    {
      "cell_type": "markdown",
      "metadata": {
        "id": "z9ityOqD455-"
      },
      "source": [
        "**`.max()`**"
      ]
    },
    {
      "cell_type": "code",
      "source": [
        "iris_miss = iris.copy()\n",
        "iris_miss.sepal_length[:50] = 2"
      ],
      "metadata": {
        "id": "v8YHJK41Bo5w"
      },
      "execution_count": null,
      "outputs": []
    },
    {
      "cell_type": "code",
      "source": [
        "# iris_miss.sepal_length[:50] = np.nan\n",
        "# iris_miss.describe()\n",
        "# print(iris_miss.sepal_length.mean())\n",
        "# iris.sepal_length[50:].mean()"
      ],
      "metadata": {
        "id": "9p9MxfV2CdXe"
      },
      "execution_count": null,
      "outputs": []
    },
    {
      "cell_type": "code",
      "execution_count": null,
      "metadata": {
        "id": "cYYnHwsq455-"
      },
      "outputs": [],
      "source": [
        "iris.sepal_length.max()"
      ]
    },
    {
      "cell_type": "markdown",
      "metadata": {
        "id": "lRZuPbKl455-"
      },
      "source": [
        "**`.std()`**\n",
        "\n",
        "This standard deviation."
      ]
    },
    {
      "cell_type": "code",
      "execution_count": null,
      "metadata": {
        "id": "LZZzkN0C455-"
      },
      "outputs": [],
      "source": [
        "iris.sepal_length.std()"
      ]
    },
    {
      "cell_type": "markdown",
      "metadata": {
        "id": "XpP7VvRJ455-"
      },
      "source": [
        "**`.corr()`**"
      ]
    },
    {
      "cell_type": "code",
      "execution_count": null,
      "metadata": {
        "id": "p6JGTI4N455-"
      },
      "outputs": [],
      "source": [
        "iris.corr()"
      ]
    },
    {
      "cell_type": "markdown",
      "metadata": {
        "id": "W0m9wm-p455-"
      },
      "source": [
        "Correlation can be computed on two fields by subsetting on them:"
      ]
    },
    {
      "cell_type": "code",
      "execution_count": null,
      "metadata": {
        "id": "yeprVIep455-"
      },
      "outputs": [],
      "source": [
        "iris[['sepal_length','petal_length']].corr()"
      ]
    },
    {
      "cell_type": "code",
      "execution_count": null,
      "metadata": {
        "id": "GviEgHsr455-"
      },
      "outputs": [],
      "source": [
        "iris[['sepal_length','petal_length','sepal_width']].corr()"
      ]
    },
    {
      "cell_type": "markdown",
      "metadata": {
        "id": "kun0hUHF455-"
      },
      "source": [
        "# Styling"
      ]
    },
    {
      "cell_type": "code",
      "execution_count": null,
      "metadata": {
        "id": "PJHQhPTh455-"
      },
      "outputs": [],
      "source": [
        "iris.corr().style.background_gradient(cmap=\"Spectral\", axis=None)"
      ]
    },
    {
      "cell_type": "code",
      "execution_count": null,
      "metadata": {
        "id": "tJkb_r2K455-"
      },
      "outputs": [],
      "source": [
        "iris.corr().style.bar(cmap=\"Spectral\",axis=None)"
      ]
    },
    {
      "cell_type": "markdown",
      "metadata": {
        "tags": [],
        "id": "oVZ2qIwB455_"
      },
      "source": [
        "# Visualization\n",
        "\n",
        "Scatterplot using Seaborn on the df columns `sepal_length`, `petal_length`.\n"
      ]
    },
    {
      "cell_type": "code",
      "execution_count": null,
      "metadata": {
        "id": "SWkiKiVN455_"
      },
      "outputs": [],
      "source": [
        "iris.plot.scatter('sepal_length', 'petal_length');"
      ]
    },
    {
      "cell_type": "code",
      "execution_count": null,
      "metadata": {
        "id": "vZ0nJyyG455_"
      },
      "outputs": [],
      "source": [
        "iris.sort_values(list(iris.columns)).plot(style='o', figsize=(10,10))"
      ]
    },
    {
      "cell_type": "code",
      "source": [
        "sns.relplot(iris, x='sepal_length', y='petal_length', hue='species')"
      ],
      "metadata": {
        "id": "WMdFOoOXM7jK"
      },
      "execution_count": null,
      "outputs": []
    },
    {
      "cell_type": "code",
      "execution_count": null,
      "metadata": {
        "id": "lyswmqW1455_"
      },
      "outputs": [],
      "source": [
        "from pandas.plotting import scatter_matrix"
      ]
    },
    {
      "cell_type": "code",
      "execution_count": null,
      "metadata": {
        "id": "ixYHYkGj455_"
      },
      "outputs": [],
      "source": [
        "scatter_matrix(iris, figsize=(10,10));"
      ]
    },
    {
      "cell_type": "markdown",
      "metadata": {
        "id": "yTZZD54w455_"
      },
      "source": [
        "# Save to CSV File\n",
        "\n",
        "Common to save df to a csv file. The full path (path + filename) is required.  \n",
        "\n",
        "There are also options to save to a database and to other file formats,\n",
        "\n",
        "Common optional parameters:\n",
        "- `sep` - delimiter\n",
        "- `index` - saving index column or not\n",
        "\n",
        "[Details](https://pandas.pydata.org/pandas-docs/stable/reference/api/pandas.DataFrame.to_csv.html)"
      ]
    },
    {
      "cell_type": "code",
      "execution_count": null,
      "metadata": {
        "id": "hSsXHHGm455_"
      },
      "outputs": [],
      "source": [
        "iris.to_csv('./iris_data.csv')"
      ]
    },
    {
      "cell_type": "markdown",
      "metadata": {
        "id": "JWFvsNrw455_"
      },
      "source": [
        "# Read from CSV File\n",
        "\n",
        "`read_csv()` reads from csv into DataFrame\n",
        "\n",
        "takes full filepath\n",
        "\n",
        "[Details](https://pandas.pydata.org/pandas-docs/stable/reference/api/pandas.read_csv.html)"
      ]
    },
    {
      "cell_type": "code",
      "execution_count": null,
      "metadata": {
        "id": "FCYS_Dy6455_"
      },
      "outputs": [],
      "source": [
        "iris_loaded = pd.read_csv('./iris_data.csv')"
      ]
    },
    {
      "cell_type": "code",
      "execution_count": null,
      "metadata": {
        "id": "uIhSpXZB455_"
      },
      "outputs": [],
      "source": [
        "iris_loaded.head(2)"
      ]
    }
  ],
  "metadata": {
    "anaconda-cloud": {},
    "kernelspec": {
      "display_name": "Python 3.8.9 64-bit",
      "language": "python",
      "name": "python3"
    },
    "language_info": {
      "codemirror_mode": {
        "name": "ipython",
        "version": 3
      },
      "file_extension": ".py",
      "mimetype": "text/x-python",
      "name": "python",
      "nbconvert_exporter": "python",
      "pygments_lexer": "ipython3",
      "version": "3.8.9"
    },
    "vscode": {
      "interpreter": {
        "hash": "31f2aee4e71d21fbe5cf8b01ff0e069b9275f58929596ceb00d14d90e3e16cd6"
      }
    },
    "colab": {
      "provenance": [],
      "include_colab_link": true
    }
  },
  "nbformat": 4,
  "nbformat_minor": 0
}