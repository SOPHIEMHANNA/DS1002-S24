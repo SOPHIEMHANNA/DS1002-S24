{
  "nbformat": 4,
  "nbformat_minor": 0,
  "metadata": {
    "colab": {
      "provenance": [],
      "include_colab_link": true
    },
    "kernelspec": {
      "name": "python3",
      "display_name": "Python 3"
    },
    "language_info": {
      "name": "python"
    }
  },
  "cells": [
    {
      "cell_type": "markdown",
      "metadata": {
        "id": "view-in-github",
        "colab_type": "text"
      },
      "source": [
        "<a href=\"https://colab.research.google.com/github/aaron-abrams-uva/DS1002-S24/blob/main/06_numpy_intro.ipynb\" target=\"_parent\"><img src=\"https://colab.research.google.com/assets/colab-badge.svg\" alt=\"Open In Colab\"/></a>"
      ]
    },
    {
      "cell_type": "markdown",
      "source": [
        "## Installing & Importing Packages"
      ],
      "metadata": {
        "id": "bP9jDhP4ya3x"
      }
    },
    {
      "cell_type": "markdown",
      "source": [
        "`numpy` is the first Python package we will be using. External packages not built into Python usually have to be (1) installed and (2) imported.\n",
        "\n",
        "### Installing\n",
        "\n",
        "To install any package into your current Google Colab session, use the `!pip` command like this:\n",
        "```\n",
        "!pip install numpy\n",
        "```\n",
        "However, `numpy` is such a common package it comes pre-installed here.\n",
        "\n",
        "### Importing\n",
        "Once a package is installed into your system, it must be imported into any Python code using the `import` command:\n",
        "```\n",
        "import numpy\n",
        "```\n",
        "### Import Aliases\n",
        "Python also allows import statements to declare an alias for referencing the package. It is a common practice among `numpy` users to import it as `np` like this:\n",
        "```\n",
        "import numpy as np\n",
        "```"
      ],
      "metadata": {
        "id": "7SPm4s7TDoGF"
      }
    },
    {
      "cell_type": "markdown",
      "source": [
        "## Basic NumPy Array Functionality"
      ],
      "metadata": {
        "id": "cZ09VMUnE0hn"
      }
    },
    {
      "cell_type": "code",
      "source": [
        "import numpy as np"
      ],
      "metadata": {
        "id": "pTtxnCPmDmzx"
      },
      "execution_count": null,
      "outputs": []
    },
    {
      "cell_type": "code",
      "source": [
        "z = np.ones(10)\n",
        "# z = np.zeros(10)\n",
        "# z = np.full(10,17)\n",
        "\n",
        "z"
      ],
      "metadata": {
        "id": "oOCGJiPnxO7L"
      },
      "execution_count": null,
      "outputs": []
    },
    {
      "cell_type": "code",
      "source": [
        "z.shape"
      ],
      "metadata": {
        "id": "QCvVComPxf_7"
      },
      "execution_count": null,
      "outputs": []
    },
    {
      "cell_type": "code",
      "source": [
        "z = np.linspace(2, 10, 5)         # go from 2 to 10, with 5 elements\n",
        "z"
      ],
      "metadata": {
        "id": "K9o0_jOcxmeX"
      },
      "execution_count": null,
      "outputs": []
    },
    {
      "cell_type": "code",
      "source": [
        "a_list = [1,2,3,4,5,6,7]\n",
        "z = np.array(a_list)\n",
        "print(type(z))\n",
        "print(type(a_list))"
      ],
      "metadata": {
        "id": "DgYzyO8Vxwez"
      },
      "execution_count": null,
      "outputs": []
    },
    {
      "cell_type": "code",
      "source": [
        "print(z.shape)\n",
        "z[0]"
      ],
      "metadata": {
        "id": "bCLMABEhx5Ix"
      },
      "execution_count": null,
      "outputs": []
    },
    {
      "cell_type": "code",
      "source": [
        "b_list = [[9,8,7,6,5,4,3],[1,2,3,4,5,6,7]]      # 2-dimensional array\n",
        "y = np.array(b_list)\n",
        "y"
      ],
      "metadata": {
        "id": "yHljhRBex9Lg"
      },
      "execution_count": null,
      "outputs": []
    },
    {
      "cell_type": "code",
      "source": [
        "y.shape       # get the shape of the array\n",
        "y.ndim        # get the dimensions of the array\n",
        "#y[1,3]\n",
        "#y[1][3]"
      ],
      "metadata": {
        "id": "GXxKSvTVyD8M"
      },
      "execution_count": null,
      "outputs": []
    },
    {
      "cell_type": "code",
      "source": [
        "# Sort an array\n",
        "\n",
        "x = np.array([2, 1, 4, 3, 5])\n",
        "np.sort(x)\n",
        "\n",
        "# How would you sort an array in descending order?\n"
      ],
      "metadata": {
        "id": "z1GXyQZYw4QQ"
      },
      "execution_count": null,
      "outputs": []
    },
    {
      "cell_type": "code",
      "source": [
        "z = np.array([1, 2, 3, 4, 5])"
      ],
      "metadata": {
        "id": "eDGHQKzcvpoF"
      },
      "execution_count": null,
      "outputs": []
    },
    {
      "cell_type": "code",
      "source": [
        "# Filter the array\n",
        "z < 3"
      ],
      "metadata": {
        "id": "50vOX5Rwvypx"
      },
      "execution_count": null,
      "outputs": []
    },
    {
      "cell_type": "code",
      "source": [
        "z > 3"
      ],
      "metadata": {
        "id": "25C6DxaOv1cA"
      },
      "execution_count": null,
      "outputs": []
    },
    {
      "cell_type": "code",
      "source": [
        "# Apply a mask to an array\n",
        "z[z > 3]\n"
      ],
      "metadata": {
        "id": "nWM_38szv2h5"
      },
      "execution_count": null,
      "outputs": []
    },
    {
      "cell_type": "code",
      "source": [
        "# Adding and combining arrays\n",
        "\n",
        "a_array = np.array([1,2,3,4,5])\n",
        "b_array = np.array([6,7,8,9,10])"
      ],
      "metadata": {
        "id": "tbJWXO8JwNdI"
      },
      "execution_count": null,
      "outputs": []
    },
    {
      "cell_type": "code",
      "source": [
        "a_array + b_array"
      ],
      "metadata": {
        "id": "ksSgOgz6wTlr"
      },
      "execution_count": null,
      "outputs": []
    },
    {
      "cell_type": "code",
      "source": [
        "a_array + 30"
      ],
      "metadata": {
        "id": "nH0-Yd8pwX5N"
      },
      "execution_count": null,
      "outputs": []
    },
    {
      "cell_type": "code",
      "source": [
        "a_array * b_array"
      ],
      "metadata": {
        "id": "U_PSotFmwZlY"
      },
      "execution_count": null,
      "outputs": []
    },
    {
      "cell_type": "code",
      "source": [
        "a_array * 10"
      ],
      "metadata": {
        "id": "Son_IPI4wcn8"
      },
      "execution_count": null,
      "outputs": []
    },
    {
      "cell_type": "markdown",
      "source": [
        "## Images are Numerical Data"
      ],
      "metadata": {
        "id": "WnaTMQaeyRkq"
      }
    },
    {
      "cell_type": "code",
      "execution_count": null,
      "metadata": {
        "id": "f5r-yejvtvUw"
      },
      "outputs": [],
      "source": [
        "!pip install scikit-image matplotlib"
      ]
    },
    {
      "cell_type": "code",
      "source": [
        "# Before running this chunk, you need an image file that colab can find.\n",
        "# I downloaded a stock image to my computer,\n",
        "# then uploaded it to the colab session using the \"Files\" tab on the\n",
        "# <==== left side of the browser tab.\n",
        "# (Under the {x} and the key.)\n",
        "# Once you click on that there's an upload option at the top of the panel.\n",
        "#\n",
        "# Note: if you are on a PC you may need to start the file name with a slash (/)\n",
        "# To find out whether you need to do that, hover over the file name in the left panel\n",
        "# and click the three dots on the right.\n",
        "# Then click \"copy path\".\n",
        "# Paste that path into the io.imread function (inside quotation marks).\n",
        "\n",
        "from skimage import io\n",
        "\n",
        "photo = io.imread('Example.jpg')\n",
        "type(photo)\n",
        "\n"
      ],
      "metadata": {
        "id": "MekyEI1RueMK"
      },
      "execution_count": null,
      "outputs": []
    },
    {
      "cell_type": "code",
      "source": [
        "photo.shape\n",
        "photo[1,1,:]"
      ],
      "metadata": {
        "id": "aAotRovJuf4U"
      },
      "execution_count": null,
      "outputs": []
    },
    {
      "cell_type": "code",
      "source": [
        "photo\n"
      ],
      "metadata": {
        "id": "l9gRnw1D0LXt"
      },
      "execution_count": null,
      "outputs": []
    },
    {
      "cell_type": "code",
      "source": [
        "import matplotlib.pyplot as plt\n",
        "plt.imshow(photo)\n"
      ],
      "metadata": {
        "id": "Svpg3eHxuhny"
      },
      "execution_count": null,
      "outputs": []
    },
    {
      "cell_type": "code",
      "source": [
        "plt.imshow(photo[::-1])"
      ],
      "metadata": {
        "id": "2z9DGVk-uxyx"
      },
      "execution_count": null,
      "outputs": []
    },
    {
      "cell_type": "code",
      "source": [
        "plt.imshow(photo[:, ::-1])"
      ],
      "metadata": {
        "id": "t7NgloZMu3D5"
      },
      "execution_count": null,
      "outputs": []
    },
    {
      "cell_type": "code",
      "source": [
        "plt.imshow(photo[200:400, 300:500])"
      ],
      "metadata": {
        "id": "tp-2V5nIu89y"
      },
      "execution_count": null,
      "outputs": []
    },
    {
      "cell_type": "code",
      "source": [
        "plt.imshow(photo[::2, ::2])"
      ],
      "metadata": {
        "id": "d9KXsXLPvQtG"
      },
      "execution_count": null,
      "outputs": []
    },
    {
      "cell_type": "code",
      "source": [
        "# Get the sin of all three channels of each pixel value\n",
        "\n",
        "photo_sin = np.sin(photo)\n",
        "photo_sin"
      ],
      "metadata": {
        "id": "l8hgkn2tvWyK"
      },
      "execution_count": null,
      "outputs": []
    },
    {
      "cell_type": "code",
      "source": [
        "# Other built-in statistical functions\n",
        "\n",
        "print(np.sum(photo))\n",
        "print(np.prod(photo))\n",
        "print(np.mean(photo))\n",
        "print(np.std(photo))\n",
        "print(np.var(photo))\n",
        "print(np.min(photo))\n",
        "print(np.max(photo))"
      ],
      "metadata": {
        "id": "a99o5Sy-vbb1"
      },
      "execution_count": null,
      "outputs": []
    },
    {
      "cell_type": "code",
      "source": [
        "# Search every value in the array, and when a value is above 100, replace it with 255.\n",
        "# Where it isn't above 100, replace with 0.\n",
        "\n",
        "photo_masked = np.where(photo > 100, 255, 0)"
      ],
      "metadata": {
        "id": "d1cxpr87v9d-"
      },
      "execution_count": null,
      "outputs": []
    },
    {
      "cell_type": "code",
      "source": [
        "plt.imshow(photo_masked)"
      ],
      "metadata": {
        "id": "ULbMPTJswEtM"
      },
      "execution_count": null,
      "outputs": []
    },
    {
      "cell_type": "code",
      "source": [
        "# Both filter the values of the array and transpose its axes.\n",
        "# Switches rows and columns.\n",
        "\n",
        "plt.imshow(photo[:,:,0].T)"
      ],
      "metadata": {
        "id": "irDxAP4wwvye"
      },
      "execution_count": null,
      "outputs": []
    },
    {
      "cell_type": "code",
      "source": [
        "photo[0,0]"
      ],
      "metadata": {
        "id": "wopnSdwtHsUD"
      },
      "execution_count": null,
      "outputs": []
    },
    {
      "cell_type": "markdown",
      "source": [
        "### Challenge  \n",
        "Use numpy functions to convert your photo array into a different\n",
        "array called ```red_photo``` that also represents an image but in each pixel of ```red_photo```, the green and blue coordinates should be changed to zeros (but the red values should be the same as they are in ```photo```).  \n",
        "\n",
        "\n",
        "For example, the first pixel of the above photo has RGB color vector equal to\n",
        "```photo[0,0]```,\n",
        "which is ```[115, 158, 250]```.\n",
        "\n",
        "The corresponding ```red_photo``` should have ```[115,0,0]``` as its first pixel's color.\n",
        "\n",
        "If you don't see immediately how to do it, think about planning out some steps.  Come up with a strategy.  Then see if you can implement it.\n",
        "\n",
        "Then create (similarly) a ```green_photo``` and a ```blue_photo```.\n",
        "\n",
        "What will you get if you compute\n",
        "\n",
        "```red_photo + green_photo + blue_photo```\n",
        "\n",
        "?\n",
        "\n",
        "\n"
      ],
      "metadata": {
        "id": "lv86ulonHZYW"
      }
    }
  ]
}