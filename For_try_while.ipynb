{
  "nbformat": 4,
  "nbformat_minor": 0,
  "metadata": {
    "colab": {
      "provenance": [],
      "authorship_tag": "ABX9TyP5ln/R6CquASoVqgaylPRB",
      "include_colab_link": true
    },
    "kernelspec": {
      "name": "python3",
      "display_name": "Python 3"
    },
    "language_info": {
      "name": "python"
    }
  },
  "cells": [
    {
      "cell_type": "markdown",
      "metadata": {
        "id": "view-in-github",
        "colab_type": "text"
      },
      "source": [
        "<a href=\"https://colab.research.google.com/github/aaron-abrams-uva/DS1002-S24/blob/main/For_try_while.ipynb\" target=\"_parent\"><img src=\"https://colab.research.google.com/assets/colab-badge.svg\" alt=\"Open In Colab\"/></a>"
      ]
    },
    {
      "cell_type": "markdown",
      "source": [
        "## Some loose ends\n"
      ],
      "metadata": {
        "id": "WggvjVsgEsgq"
      }
    },
    {
      "cell_type": "markdown",
      "source": [
        "&nbsp;\n",
        "&nbsp;\n",
        "&nbsp;\n",
        "### `for` loops\n",
        "\n",
        "\n",
        "\n",
        "\n",
        "\n",
        "\n"
      ],
      "metadata": {
        "id": "EIzRKDNGCr9F"
      }
    },
    {
      "cell_type": "code",
      "source": [
        "for i in range(17):\n",
        "  print(i,i**2)\n",
        "i"
      ],
      "metadata": {
        "id": "5onzewOwCfNy",
        "colab": {
          "base_uri": "https://localhost:8080/"
        },
        "outputId": "5b2b71d6-2867-404c-f657-56ca9076a3d3"
      },
      "execution_count": 56,
      "outputs": [
        {
          "output_type": "stream",
          "name": "stdout",
          "text": [
            "0 0\n",
            "1 1\n",
            "2 4\n",
            "3 9\n",
            "4 16\n",
            "5 25\n",
            "6 36\n",
            "7 49\n",
            "8 64\n",
            "9 81\n",
            "10 100\n",
            "11 121\n",
            "12 144\n",
            "13 169\n",
            "14 196\n",
            "15 225\n",
            "16 256\n"
          ]
        },
        {
          "output_type": "execute_result",
          "data": {
            "text/plain": [
              "16"
            ]
          },
          "metadata": {},
          "execution_count": 56
        }
      ]
    },
    {
      "cell_type": "markdown",
      "source": [
        "\n",
        "How to make a list of squares?\n",
        "\n"
      ],
      "metadata": {
        "id": "5QDhjdFTDcxH"
      }
    },
    {
      "cell_type": "code",
      "source": [
        "numbers = range(17)\n",
        "\n",
        "# numbers * numbers\n",
        "\n",
        "# numbers ** 2\n",
        "\n",
        "# for i in numbers:\n",
        "#   attempt2[i] = i ** 2\n",
        "# attempt2\n",
        "\n",
        "attempt3 = list()\n",
        "for i in numbers:\n",
        "  attempt3.append(i**2)\n",
        "attempt3\n",
        "\n",
        "#\n",
        "#\n",
        "#\n",
        "#\n"
      ],
      "metadata": {
        "id": "QeAw6xw39rH_",
        "colab": {
          "base_uri": "https://localhost:8080/"
        },
        "outputId": "ea15e832-3bbd-476f-cda5-992352d2b80a"
      },
      "execution_count": 61,
      "outputs": [
        {
          "output_type": "execute_result",
          "data": {
            "text/plain": [
              "[0, 1, 4, 9, 16, 25, 36, 49, 64, 81, 100, 121, 144, 169, 196, 225, 256]"
            ]
          },
          "metadata": {},
          "execution_count": 61
        }
      ]
    },
    {
      "cell_type": "code",
      "source": [
        "squares = [i**2 for i in numbers]\n",
        "squares\n"
      ],
      "metadata": {
        "id": "g2_rGVGs89yY",
        "colab": {
          "base_uri": "https://localhost:8080/"
        },
        "outputId": "645e2a4e-9eb1-4274-a8e6-304605c5c0e6"
      },
      "execution_count": 62,
      "outputs": [
        {
          "output_type": "execute_result",
          "data": {
            "text/plain": [
              "[0, 1, 4, 9, 16, 25, 36, 49, 64, 81, 100, 121, 144, 169, 196, 225, 256]"
            ]
          },
          "metadata": {},
          "execution_count": 62
        }
      ]
    },
    {
      "cell_type": "markdown",
      "source": [
        "How about a list of the odd cubes?\n"
      ],
      "metadata": {
        "id": "rLCnBgwAET6i"
      }
    },
    {
      "cell_type": "code",
      "source": [
        "odds = range(1,17,2)\n",
        "odd_cubes = [ i ** 3 for i in odds]\n",
        "print(odd_cubes)\n",
        "\n",
        "numbers = range(17)\n",
        "odd_cubes2 = [t ** 3 for t in numbers if t%2 == 1]\n",
        "print(odd_cubes2)"
      ],
      "metadata": {
        "id": "85OXfAwd9a5D",
        "colab": {
          "base_uri": "https://localhost:8080/"
        },
        "outputId": "988e074e-8e55-4db7-d018-c845099b00aa"
      },
      "execution_count": 65,
      "outputs": [
        {
          "output_type": "stream",
          "name": "stdout",
          "text": [
            "[1, 27, 125, 343, 729, 1331, 2197, 3375]\n",
            "[1, 27, 125, 343, 729, 1331, 2197, 3375]\n"
          ]
        }
      ]
    },
    {
      "cell_type": "markdown",
      "source": [
        "### Toward robust code"
      ],
      "metadata": {
        "id": "Sc4GzX2pE1jY"
      }
    },
    {
      "cell_type": "markdown",
      "source": [
        "Back to the issue of indestructible code for a moment.  Some of you discovered the `try` . . . `except` command.\n"
      ],
      "metadata": {
        "id": "oFe4wN9REX3Y"
      }
    },
    {
      "cell_type": "code",
      "execution_count": 69,
      "metadata": {
        "id": "Ahp6Y_tp7M9_",
        "colab": {
          "base_uri": "https://localhost:8080/"
        },
        "outputId": "7afecb8f-dab7-4622-ff94-db7de5762262"
      },
      "outputs": [
        {
          "output_type": "stream",
          "name": "stdout",
          "text": [
            "error\n"
          ]
        }
      ],
      "source": [
        "x=\"number\"\n",
        "try:\n",
        "  print('word' * x)\n",
        "except:\n",
        "  print(\"error\")"
      ]
    },
    {
      "cell_type": "markdown",
      "source": [
        "Remember the ratings question?\n"
      ],
      "metadata": {
        "id": "fG7sCAJoFBix"
      }
    },
    {
      "cell_type": "code",
      "source": [
        "# n = input(\"What is your rating?\")\n",
        "# print(\"Your rating is\", n * '*')\n",
        "\n",
        "# print(\"What is your rating?\")\n",
        "# n = input()\n",
        "# print(\"Your rating is\", int(n) * '*')\n",
        "\n",
        "# print(\"What is your rating?\")\n",
        "# n = input()\n",
        "# if int(n) <= 10 and int(n) >=1:\n",
        "#   print(\"Your rating is\", int(n) * '*')\n",
        "# else:\n",
        "#   print(\"invalid input\")\n",
        "\n",
        "\n",
        "\n",
        "print(\"What is your rating?\")\n",
        "n = input()\n",
        "try:\n",
        "  if int(n) <= 10 and int(n) >=1:\n",
        "    print(\"Your rating is\", int(n) * '*')\n",
        "  else:\n",
        "    print(\"from 1 to 10 please\")\n",
        "except:\n",
        "  print(\"invalid input\")\n"
      ],
      "metadata": {
        "id": "FUNj7cY3_bHP",
        "colab": {
          "base_uri": "https://localhost:8080/"
        },
        "outputId": "3b31bbdf-c6d5-497d-ab11-74aaae8c28e1"
      },
      "execution_count": 81,
      "outputs": [
        {
          "output_type": "stream",
          "name": "stdout",
          "text": [
            "What is your rating?\n",
            "3.6\n",
            "invalid input\n"
          ]
        }
      ]
    },
    {
      "cell_type": "markdown",
      "source": [
        "### Another looping structure:  the `while` loop"
      ],
      "metadata": {
        "id": "YJB4irxjFEiR"
      }
    },
    {
      "cell_type": "code",
      "source": [
        "success = False\n",
        "\n",
        "while success == False:\n",
        "  print(\"What is your rating?\")\n",
        "  n = input()\n",
        "  try:\n",
        "    if int(n) <= 10 and int(n) >=1:\n",
        "      print(\"Your rating is\", int(n) * '*')\n",
        "      success = True\n",
        "    else:\n",
        "      print(\"from 1 to 10 please\")\n",
        "  except:\n",
        "    print(\"invalid input\")\n"
      ],
      "metadata": {
        "id": "8AemUPRcBtR_",
        "colab": {
          "base_uri": "https://localhost:8080/"
        },
        "outputId": "1ea6d50e-a3a7-4db5-cf08-91c7a88dafa5"
      },
      "execution_count": 83,
      "outputs": [
        {
          "output_type": "stream",
          "name": "stdout",
          "text": [
            "What is your rating?\n",
            "12\n",
            "from 1 to 10 please\n",
            "What is your rating?\n",
            "12\n",
            "from 1 to 10 please\n",
            "What is your rating?\n",
            "-7\n",
            "from 1 to 10 please\n",
            "What is your rating?\n",
            "nonsense\n",
            "invalid input\n",
            "What is your rating?\n",
            "5\n",
            "Your rating is *****\n"
          ]
        }
      ]
    },
    {
      "cell_type": "code",
      "source": [
        "n = 0\n",
        "while n < 10 :\n",
        "  n += 1 # (short for n = n+1)\n",
        "print(n)\n"
      ],
      "metadata": {
        "colab": {
          "base_uri": "https://localhost:8080/"
        },
        "id": "u5sq2jrUbmYs",
        "outputId": "eac46341-53dd-48be-b984-ba3eea2385ef"
      },
      "execution_count": 86,
      "outputs": [
        {
          "output_type": "stream",
          "name": "stdout",
          "text": [
            "10\n"
          ]
        }
      ]
    },
    {
      "cell_type": "markdown",
      "source": [
        "Messing with numpy"
      ],
      "metadata": {
        "id": "MrwKDbI1L0Nv"
      }
    },
    {
      "cell_type": "code",
      "source": [
        "import numpy as np"
      ],
      "metadata": {
        "id": "ZPpVnhMlGdX3"
      },
      "execution_count": 2,
      "outputs": []
    },
    {
      "cell_type": "code",
      "source": [
        "array = np.arange(11)\n",
        "print(array)\n",
        "\n",
        "\n",
        "array2 = np.array(range(11))\n",
        "print(array2)"
      ],
      "metadata": {
        "id": "Not80Td9L2Lp"
      },
      "execution_count": null,
      "outputs": []
    }
  ]
}