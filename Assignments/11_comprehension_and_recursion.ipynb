{
  "nbformat": 4,
  "nbformat_minor": 0,
  "metadata": {
    "colab": {
      "provenance": [],
      "include_colab_link": true
    },
    "kernelspec": {
      "name": "python3",
      "display_name": "Python 3"
    },
    "language_info": {
      "name": "python"
    }
  },
  "cells": [
    {
      "cell_type": "markdown",
      "metadata": {
        "id": "view-in-github",
        "colab_type": "text"
      },
      "source": [
        "<a href=\"https://colab.research.google.com/github/SOPHIEMHANNA/DS1002-S24/blob/main/Assignments/11_comprehension_and_recursion.ipynb\" target=\"_parent\"><img src=\"https://colab.research.google.com/assets/colab-badge.svg\" alt=\"Open In Colab\"/></a>"
      ]
    },
    {
      "cell_type": "markdown",
      "source": [
        "## Assignment 11\n",
        "Due Monday 15 April at noon"
      ],
      "metadata": {
        "id": "y6mGkyWrqph3"
      }
    },
    {
      "cell_type": "markdown",
      "source": [
        "### List comprehension\n",
        "\n",
        "Many of you resisted my recommendation to use list comprehensions in the previous assignment, and so my hand is forced.  You made me require it.\n",
        "\n",
        "\n",
        "Problem 1.  For each function you write below, you may assume the list being sent to the function will contain the appropriate data type.\n",
        "\n",
        "Use list comprehensions to create a function that will take a list `l` and return . . ."
      ],
      "metadata": {
        "id": "eBJulsWBngse"
      }
    },
    {
      "cell_type": "markdown",
      "source": [
        "Sophie Hanna and Leila Bynum"
      ],
      "metadata": {
        "id": "cuLBYCFo3DHC"
      }
    },
    {
      "cell_type": "markdown",
      "source": [
        "(a) . . . a list containing the absolute value of each element of `l`"
      ],
      "metadata": {
        "id": "1h4hKDEqo5T_"
      }
    },
    {
      "cell_type": "code",
      "source": [
        "# Code for absolute value for each element\n",
        "def absolute_values(l):\n",
        "    return [abs(x) for x in l]\n",
        "\n",
        "# Example of using code\n",
        "example_list = [-5, -4, -3, -2, -1, 0]\n",
        "print(absolute_values(example_list))"
      ],
      "metadata": {
        "id": "LNltsHhtngLS",
        "outputId": "05cbdefe-871e-4f07-d862-cb89d093caba",
        "colab": {
          "base_uri": "https://localhost:8080/"
        }
      },
      "execution_count": 9,
      "outputs": [
        {
          "output_type": "stream",
          "name": "stdout",
          "text": [
            "[5, 4, 3, 2, 1, 0]\n"
          ]
        }
      ]
    },
    {
      "cell_type": "markdown",
      "source": [
        "(b) . . . a list containing `True` for each even number in `l` and `False` for each odd number in `l`"
      ],
      "metadata": {
        "id": "mqIbzaTvpLCV"
      }
    },
    {
      "cell_type": "code",
      "source": [
        "# Code for true or false based on whether number is even or odd\n",
        "def even_odd(l):\n",
        "    return [True if x % 2 == 0 else False for x in l]\n",
        "\n",
        "# Example of using code\n",
        "example_list = [5, 4, 3, 2, 1]\n",
        "print(even_odd(example_list))"
      ],
      "metadata": {
        "id": "0OTpQFX9pK0t",
        "outputId": "617a9b7d-f082-4abc-c418-9cd4f9d6062d",
        "colab": {
          "base_uri": "https://localhost:8080/"
        }
      },
      "execution_count": 12,
      "outputs": [
        {
          "output_type": "stream",
          "name": "stdout",
          "text": [
            "[False, True, False, True, False]\n"
          ]
        }
      ]
    },
    {
      "cell_type": "markdown",
      "source": [
        "(c) . . . a list containing only the numbers in `l` that are divisible by 3"
      ],
      "metadata": {
        "id": "9yqVg2hApUY9"
      }
    },
    {
      "cell_type": "code",
      "source": [
        "# Code for list only containing number that are divisible by 3\n",
        "def divisible_by_3(l):\n",
        "    return [x for x in l if x % 3 == 0]\n",
        "\n",
        "# Example of using code\n",
        "example_list = [1, 2, 3, 4, 5, 6, 7, 8, 9, 10, 11, 12]\n",
        "print(divisible_by_3(example_list))"
      ],
      "metadata": {
        "id": "2mP_1aYZpUF4",
        "outputId": "0c20cbce-eb43-45f2-b6f5-a4d0a563c36f",
        "colab": {
          "base_uri": "https://localhost:8080/"
        }
      },
      "execution_count": 16,
      "outputs": [
        {
          "output_type": "stream",
          "name": "stdout",
          "text": [
            "[3, 6, 9, 12]\n"
          ]
        }
      ]
    },
    {
      "cell_type": "markdown",
      "source": [
        "(d) . . . a list containing only the words in `l` whose first and last letters are the same"
      ],
      "metadata": {
        "id": "2yClgYZupef1"
      }
    },
    {
      "cell_type": "code",
      "source": [
        "# Code for only words who have same first and last letter\n",
        "def same_first_and_last_word(l):\n",
        "    return [word for word in l if len(word) > 1 and word[0] == word[-1]]\n",
        "\n",
        "# Example of using code\n",
        "example_list = [\"data\", \"science\",\"racecar\", \"wow\", \"homework\"]\n",
        "print(same_first_and_last_word(example_list))  # Output: ['radar', 'level', 'wow']"
      ],
      "metadata": {
        "id": "-l7XnemMpeCi",
        "outputId": "4086b7dd-dd34-440f-b775-4adf7a38a71d",
        "colab": {
          "base_uri": "https://localhost:8080/"
        }
      },
      "execution_count": 19,
      "outputs": [
        {
          "output_type": "stream",
          "name": "stdout",
          "text": [
            "['racecar', 'wow']\n"
          ]
        }
      ]
    },
    {
      "cell_type": "markdown",
      "source": [
        "(e) . . . a list containing the first letter of each word in `l` that ends with a vowel"
      ],
      "metadata": {
        "id": "1mqMysFKppZS"
      }
    },
    {
      "cell_type": "code",
      "source": [
        "def first_letter_that_ends_with_vowel(l):\n",
        "    vowels = ['a', 'e', 'i', 'o', 'u']\n",
        "    return [word[0] for word in l if word[-1].lower() in vowels]\n",
        "\n",
        "# Example of using code:\n",
        "my_list = [\"data\", \"science\", \"homework\", \"assignment\", \"school\"]\n",
        "print(first_letter_that_ends_with_vowel(my_list))  # Output: ['a', 'o']"
      ],
      "metadata": {
        "id": "1Gi3andbppDc",
        "outputId": "14eeac85-dd8a-4f31-ccd5-7f1c05bbd49f",
        "colab": {
          "base_uri": "https://localhost:8080/"
        }
      },
      "execution_count": 20,
      "outputs": [
        {
          "output_type": "stream",
          "name": "stdout",
          "text": [
            "['d', 's']\n"
          ]
        }
      ]
    },
    {
      "cell_type": "markdown",
      "source": [
        "### Multiplication as a recursive process\n",
        "Problem 2.  Write a recursive function that computes the product of two positive integers `a` and `b` by adding `a` to itself `b` times.\n",
        "\n",
        "Hints:  \n",
        "1. if `b=1` then the product is `a`.\n",
        "2. if `b>1` then the product is what you get by adding `a` to `a * (b-1)`.\n",
        "\n",
        "Note:  the purpose of this exercise is to practice writing recursive functions.  Of course you can trivially ask for `a*b` and get the correct answer but that is worth no points.  Your function should not use any multiplications.\n"
      ],
      "metadata": {
        "id": "iV4ysawxjsiE"
      }
    },
    {
      "cell_type": "code",
      "execution_count": 25,
      "metadata": {
        "id": "wc9Y1d7ejrvH",
        "outputId": "1f709e08-0ec6-404f-cbbb-3bc793e4c3ac",
        "colab": {
          "base_uri": "https://localhost:8080/"
        }
      },
      "outputs": [
        {
          "output_type": "stream",
          "name": "stdout",
          "text": [
            "60\n"
          ]
        }
      ],
      "source": [
        "def multiplication_as_a_recursive_process(a, b):\n",
        "    # if b = 1, return a\n",
        "    if b == 1:\n",
        "        return a\n",
        "    # multiply a by (b-1) and add a to the result\n",
        "    else:\n",
        "        return a + multiplication_as_a_recursive_process(a, b - 1)\n",
        "\n",
        "# Example of using code:\n",
        "result = multiplication_as_a_recursive_process(10, 6)\n",
        "print(result)"
      ]
    },
    {
      "cell_type": "markdown",
      "source": [
        "### Division as a recursive process\n",
        "\n",
        "Problem 3:  Write a recursive function that takes two positive integers `a` and `b` and returns the quotient `q` and remainder `r` obtained when `a` is divided by `b`.\n",
        "\n",
        "Hints:  \n",
        "1. If `a<b` then what should `q` and `r` be?\n",
        "\n",
        "2. If `a>b` then think about how `q` and `r` are related to the values you would get from dividing `a-b` by `b`."
      ],
      "metadata": {
        "id": "A5xI1LxDkxn0"
      }
    },
    {
      "cell_type": "code",
      "source": [
        "def divide_recursive(a, b):\n",
        "\n",
        "    # if a < b, then q = 0 and r = a\n",
        "    if a < b:\n",
        "        return 0, a\n",
        "    # compute the quotient and remainder of a-b divided by b\n",
        "    q, r = divide_recursive(a - b, b)\n",
        "    # increase quotient by 1 and then return the quotient and remainder\n",
        "    return q + 1, r\n",
        "\n",
        "# Example of using code:\n",
        "quotient, remainder = divide_recursive(25, 4)\n",
        "print(\"Quotient:\", quotient)\n",
        "print(\"Remainder:\", remainder)"
      ],
      "metadata": {
        "id": "_3aRmkgJkxUW",
        "outputId": "b3e17c0d-d129-4b05-d93e-55b314f372a6",
        "colab": {
          "base_uri": "https://localhost:8080/"
        }
      },
      "execution_count": 26,
      "outputs": [
        {
          "output_type": "stream",
          "name": "stdout",
          "text": [
            "Quotient: 6\n",
            "Remainder: 1\n"
          ]
        }
      ]
    },
    {
      "cell_type": "markdown",
      "source": [
        "### The dot product of two vectors\n",
        "\n",
        "Problem 4.  Write a recursive function `dot()` that takes two lists of numbers, of equal length, and returns the sum of the products of the elements of the same index from each list. For example, if `V=[1,2,3]` and `W=[4,5,6]` then the function should return the value $(1 \\cdot 4) + (2\\cdot 5) + (3\\cdot 6)$, which equals 32.  In physics and linear algebra, this is called the \"dot product\" of the vectors `V` and `W`.\n",
        "\n",
        "Other examples:\n",
        "```\n",
        "dot([3],[4])\n",
        "12\n",
        "\n",
        "dot([1,1,0],[2,7,17])\n",
        "9\n",
        "```\n",
        "Hints:\n",
        "1. How is `dot(V,W)` related to `dot(V[1:],W[1:])`?\n",
        "2. What should happen if the lists are empty?"
      ],
      "metadata": {
        "id": "OkBK7gvglJ3u"
      }
    },
    {
      "cell_type": "code",
      "source": [
        "def dot(V, W):\n",
        "\n",
        "    # both lists empty, return 0\n",
        "    if not V and not W:\n",
        "        return 0\n",
        "    # code to check if lengths of the two lists are equal\n",
        "    if len(V) != len(W):\n",
        "        raise ValueError(\"Lists must be equal in length.\")\n",
        "    # Computeing dot product of the first elements and call itself with the rest\n",
        "    return V[0] * W[0] + dot(V[1:], W[1:])\n",
        "\n",
        "# Example of using code:\n",
        "result = dot([4,5, 6], [7, 8, 9])\n",
        "print(result)"
      ],
      "metadata": {
        "id": "LZXs6lkslJqm",
        "outputId": "0e576e88-c330-4b9b-bcce-ee58ed797d10",
        "colab": {
          "base_uri": "https://localhost:8080/"
        }
      },
      "execution_count": 27,
      "outputs": [
        {
          "output_type": "stream",
          "name": "stdout",
          "text": [
            "122\n"
          ]
        }
      ]
    }
  ]
}