{
  "cells": [
    {
      "cell_type": "markdown",
      "metadata": {
        "id": "view-in-github",
        "colab_type": "text"
      },
      "source": [
        "<a href=\"https://colab.research.google.com/github/aaron-abrams-uva/DS1002-S24/blob/main/MorePythonBasics.ipynb\" target=\"_parent\"><img src=\"https://colab.research.google.com/assets/colab-badge.svg\" alt=\"Open In Colab\"/></a>"
      ]
    },
    {
      "cell_type": "markdown",
      "id": "7f2a553a",
      "metadata": {
        "id": "7f2a553a"
      },
      "source": [
        "# Metadata\n",
        "\n",
        "```\n",
        "Course:      DS 1002\n",
        "Week:        Python Basics\n",
        "Topic:       Python Types, Operators, and Expressions\n",
        "```"
      ]
    },
    {
      "cell_type": "markdown",
      "id": "19ee6f8f",
      "metadata": {
        "id": "19ee6f8f"
      },
      "source": [
        "# Comments"
      ]
    },
    {
      "cell_type": "code",
      "source": [
        "# Here is a comment"
      ],
      "metadata": {
        "id": "g_BGKgNt2gtz"
      },
      "id": "g_BGKgNt2gtz",
      "execution_count": 52,
      "outputs": []
    },
    {
      "cell_type": "markdown",
      "id": "2e95d671",
      "metadata": {
        "id": "2e95d671"
      },
      "source": [
        "You can comment out any single line with a # character.\n",
        "    \n",
        "    # Here is a comment\n",
        "\n",
        "You can comment out multiple lines using triple quote marks on both ends.\n",
        "\n",
        "```python\n",
        "\"\"\"\n",
        "Here is a long comment that takes up several lines.\n",
        "I wonder how long it will go?\n",
        "Okay maybe just three lines long\n",
        "\"\"\"\n",
        "```"
      ]
    },
    {
      "cell_type": "markdown",
      "id": "420867eb",
      "metadata": {
        "id": "420867eb"
      },
      "source": [
        "# Reserved Keywords"
      ]
    },
    {
      "cell_type": "markdown",
      "id": "5c1c4907",
      "metadata": {
        "id": "5c1c4907"
      },
      "source": [
        "Reserved keywords have specific meanings and restrictions on how they should be used. There are lots of them!  But, you should nevertheless have no trouble naming your variables.\n",
        "\n",
        "More examples:\n",
        "\n",
        "`False`   \n",
        "`await`\n",
        "`else`\n",
        "`import`   \n",
        "`pass`  \n",
        "`None`   \n",
        "`break`   \n",
        "`except`   \n",
        "`in`   \n",
        "`raise`   \n",
        "`True`   \n",
        "`class`   \n",
        "`finally`   \n",
        "`is`\n",
        "`return`   \n",
        "`and`   \n",
        "`continue`   \n",
        "`for`   \n",
        "`lambda`   \n",
        "`try`   \n",
        "`as`   \n",
        "`def`   \n",
        "`from`   \n",
        "`nonlocal`   \n",
        "`while`   \n",
        "`assert`   \n",
        "`del`   \n",
        "`global`\n",
        "`not`   \n",
        "`with`   \n",
        "`async`   \n",
        "`elif`\t  \n",
        "`if`   \n",
        "`or`   \n",
        "`yield`"
      ]
    },
    {
      "cell_type": "markdown",
      "id": "2f7ae123",
      "metadata": {
        "id": "2f7ae123"
      },
      "source": [
        "# Variables & Types"
      ]
    },
    {
      "cell_type": "markdown",
      "id": "92a9caa8",
      "metadata": {
        "id": "92a9caa8"
      },
      "source": [
        "Variables are assigned types **dynamically**."
      ]
    },
    {
      "cell_type": "code",
      "execution_count": 53,
      "id": "fe148025",
      "metadata": {
        "colab": {
          "base_uri": "https://localhost:8080/"
        },
        "id": "fe148025",
        "outputId": "37e9c27f-6111-4e23-ff42-cf610248c5ad"
      },
      "outputs": [
        {
          "output_type": "execute_result",
          "data": {
            "text/plain": [
              "4"
            ]
          },
          "metadata": {},
          "execution_count": 53
        }
      ],
      "source": [
        "# variable name = assigned value\n",
        "x = 4\n",
        "x"
      ]
    },
    {
      "cell_type": "code",
      "execution_count": 54,
      "id": "62a4d6d9",
      "metadata": {
        "colab": {
          "base_uri": "https://localhost:8080/"
        },
        "id": "62a4d6d9",
        "outputId": "3ab17f92-8c8c-46e8-e83f-31a8666d08b8"
      },
      "outputs": [
        {
          "output_type": "execute_result",
          "data": {
            "text/plain": [
              "125"
            ]
          },
          "metadata": {},
          "execution_count": 54
        }
      ],
      "source": [
        "y = 100 + 25\n",
        "y"
      ]
    },
    {
      "cell_type": "code",
      "execution_count": 58,
      "id": "ec0ca490",
      "metadata": {
        "colab": {
          "base_uri": "https://localhost:8080/"
        },
        "id": "ec0ca490",
        "outputId": "a541ed6e-8606-403d-fe97-7ebd15441c4e"
      },
      "outputs": [
        {
          "output_type": "stream",
          "name": "stdout",
          "text": [
            "4\n",
            "125\n"
          ]
        }
      ],
      "source": [
        "# can type variable to get value\n",
        "print(x)\n",
        "print(y)"
      ]
    },
    {
      "cell_type": "code",
      "execution_count": null,
      "id": "bfb5dda2",
      "metadata": {
        "id": "bfb5dda2"
      },
      "outputs": [],
      "source": [
        "# can use print() function to view assigned value\n",
        "# the print() function has a lot of uses and will be discussed later\n",
        "print(x)"
      ]
    },
    {
      "cell_type": "code",
      "execution_count": 61,
      "id": "256e6b1c",
      "metadata": {
        "colab": {
          "base_uri": "https://localhost:8080/"
        },
        "id": "256e6b1c",
        "outputId": "d1a97988-bc3f-4274-9cda-f7133293a6ad"
      },
      "outputs": [
        {
          "output_type": "execute_result",
          "data": {
            "text/plain": [
              "False"
            ]
          },
          "metadata": {},
          "execution_count": 61
        }
      ],
      "source": [
        "# reassign variable\n",
        "x=4\n",
        "x == 5"
      ]
    },
    {
      "cell_type": "code",
      "execution_count": null,
      "id": "358db343",
      "metadata": {
        "id": "358db343"
      },
      "outputs": [],
      "source": [
        "# variable arithmetic\n",
        "x + y"
      ]
    },
    {
      "cell_type": "code",
      "execution_count": 62,
      "id": "2f439542",
      "metadata": {
        "id": "2f439542"
      },
      "outputs": [],
      "source": [
        "# variables of other data types\n",
        "float_var = 4.22\n",
        "string_var = 'virginia'\n",
        "bool_var = True"
      ]
    },
    {
      "cell_type": "code",
      "execution_count": 64,
      "id": "c7450065",
      "metadata": {
        "colab": {
          "base_uri": "https://localhost:8080/"
        },
        "id": "c7450065",
        "outputId": "523d1220-3fe1-4261-a364-f383859f6609"
      },
      "outputs": [
        {
          "output_type": "execute_result",
          "data": {
            "text/plain": [
              "str"
            ]
          },
          "metadata": {},
          "execution_count": 64
        }
      ],
      "source": [
        "type(string_var) # gives you type of data variable is holding"
      ]
    },
    {
      "cell_type": "code",
      "execution_count": 65,
      "id": "2a29aba5",
      "metadata": {
        "colab": {
          "base_uri": "https://localhost:8080/",
          "height": 209
        },
        "id": "2a29aba5",
        "outputId": "89daf65e-2c1d-414f-c9d3-fd37e0d55b59"
      },
      "outputs": [
        {
          "output_type": "error",
          "ename": "NameError",
          "evalue": "name 'x' is not defined",
          "traceback": [
            "\u001b[0;31m---------------------------------------------------------------------------\u001b[0m",
            "\u001b[0;31mNameError\u001b[0m                                 Traceback (most recent call last)",
            "\u001b[0;32m<ipython-input-65-cab3b6507cc1>\u001b[0m in \u001b[0;36m<cell line: 4>\u001b[0;34m()\u001b[0m\n\u001b[1;32m      2\u001b[0m \u001b[0;32mdel\u001b[0m\u001b[0;34m(\u001b[0m\u001b[0mx\u001b[0m\u001b[0;34m)\u001b[0m\u001b[0;34m\u001b[0m\u001b[0;34m\u001b[0m\u001b[0m\n\u001b[1;32m      3\u001b[0m \u001b[0;34m\u001b[0m\u001b[0m\n\u001b[0;32m----> 4\u001b[0;31m \u001b[0mx\u001b[0m\u001b[0;34m\u001b[0m\u001b[0;34m\u001b[0m\u001b[0m\n\u001b[0m",
            "\u001b[0;31mNameError\u001b[0m: name 'x' is not defined"
          ]
        }
      ],
      "source": [
        "# delete a variable with function del()\n",
        "del(x)\n",
        "\n",
        "x"
      ]
    },
    {
      "cell_type": "markdown",
      "id": "c2b08e1b",
      "metadata": {
        "id": "c2b08e1b"
      },
      "source": [
        "## Converting Data Types\n",
        "\n",
        "When needed you can 'cast' a variable as a different string type (remember Python automatically assigns data type to a variable).\n",
        "\n",
        "We do this through casting functions:"
      ]
    },
    {
      "cell_type": "markdown",
      "id": "dbb0c35f",
      "metadata": {
        "id": "dbb0c35f"
      },
      "source": [
        "**`int()`**"
      ]
    },
    {
      "cell_type": "code",
      "execution_count": 66,
      "id": "39b9e5f5",
      "metadata": {
        "colab": {
          "base_uri": "https://localhost:8080/"
        },
        "id": "39b9e5f5",
        "outputId": "6d8ba2aa-cd27-466a-ea48-9fe97a636dc5"
      },
      "outputs": [
        {
          "output_type": "execute_result",
          "data": {
            "text/plain": [
              "float"
            ]
          },
          "metadata": {},
          "execution_count": 66
        }
      ],
      "source": [
        "# create float variable\n",
        "var_float = 9.6\n",
        "type(var_float)"
      ]
    },
    {
      "cell_type": "code",
      "execution_count": 67,
      "id": "b6440326",
      "metadata": {
        "colab": {
          "base_uri": "https://localhost:8080/"
        },
        "id": "b6440326",
        "outputId": "5146f788-fe84-4f9a-e02f-e881207f2b6c"
      },
      "outputs": [
        {
          "output_type": "stream",
          "name": "stdout",
          "text": [
            "<class 'int'>\n"
          ]
        },
        {
          "output_type": "execute_result",
          "data": {
            "text/plain": [
              "9"
            ]
          },
          "metadata": {},
          "execution_count": 67
        }
      ],
      "source": [
        "# cast float to integer\n",
        "var_int = int(var_float)\n",
        "\n",
        "print(type(var_int))\n",
        "var_int"
      ]
    },
    {
      "cell_type": "markdown",
      "id": "7765a689",
      "metadata": {
        "id": "7765a689"
      },
      "source": [
        "**`float()`**"
      ]
    },
    {
      "cell_type": "code",
      "execution_count": 68,
      "id": "b052299d",
      "metadata": {
        "colab": {
          "base_uri": "https://localhost:8080/"
        },
        "id": "b052299d",
        "outputId": "8e5f12cb-5ed2-4834-dfc7-4e8f4973717e"
      },
      "outputs": [
        {
          "output_type": "execute_result",
          "data": {
            "text/plain": [
              "str"
            ]
          },
          "metadata": {},
          "execution_count": 68
        }
      ],
      "source": [
        "# create string variable\n",
        "var_str = '2.71'\n",
        "type(var_str)"
      ]
    },
    {
      "cell_type": "code",
      "execution_count": null,
      "id": "3c617d79",
      "metadata": {
        "id": "3c617d79"
      },
      "outputs": [],
      "source": [
        "# cast string to float\n",
        "var_float = float(var_str)\n",
        "print(type(var_float))\n",
        "print(var_float)\n",
        "\n",
        "x = float(\"string\")"
      ]
    },
    {
      "cell_type": "markdown",
      "id": "a39bd925",
      "metadata": {
        "id": "a39bd925"
      },
      "source": [
        "# Operators\n",
        "\n",
        "If variables are **nouns**, and values **meanings**, then operators are **verbs**.\n",
        "\n",
        "In effect, they are **elementary functions** that are expressed in sequential syntax.\n",
        "\n",
        "**Each data type is associated with a set of operators** that allow you to manipulate the data in way that makes sense for its type. Numeric data types are subject to mathematical operations, booleans to logical ones, and so forth.\n",
        "\n",
        "There are also **operations appropriate to structures**. For example, list-like things have membership.\n",
        "\n",
        "The relationship between types and operators is a little bit like the relationship between data structures and algorithms. **An algorithm is typically designed for a particular data structure.**\n",
        "\n",
        "The w3schools site has [a good summary](https://www.w3schools.com/python/python_operators.asp).\n"
      ]
    },
    {
      "cell_type": "markdown",
      "id": "62f47df4",
      "metadata": {
        "id": "62f47df4"
      },
      "source": [
        "## Numeric Operators"
      ]
    },
    {
      "cell_type": "markdown",
      "id": "36321606",
      "metadata": {
        "id": "36321606"
      },
      "source": [
        "Common: `+`, `-`, `*`, `/`\n",
        "\n",
        "\n",
        "\n",
        "Other operators:"
      ]
    },
    {
      "cell_type": "markdown",
      "id": "19c15a61",
      "metadata": {
        "id": "19c15a61"
      },
      "source": [
        "**floor division `//`**\n",
        "\n",
        "returns the largest integer less than or equal to the result"
      ]
    },
    {
      "cell_type": "code",
      "execution_count": 71,
      "id": "b2746f37",
      "metadata": {
        "colab": {
          "base_uri": "https://localhost:8080/"
        },
        "id": "b2746f37",
        "outputId": "5684799e-5918-4496-ecf2-9d0cacdc621c"
      },
      "outputs": [
        {
          "output_type": "execute_result",
          "data": {
            "text/plain": [
              "2"
            ]
          },
          "metadata": {},
          "execution_count": 71
        }
      ],
      "source": [
        "5 // 2"
      ]
    },
    {
      "cell_type": "code",
      "execution_count": 72,
      "id": "54cd2cde",
      "metadata": {
        "colab": {
          "base_uri": "https://localhost:8080/"
        },
        "id": "54cd2cde",
        "outputId": "a64c4a2b-c308-4be6-a7ac-3ff65ff023d8"
      },
      "outputs": [
        {
          "output_type": "execute_result",
          "data": {
            "text/plain": [
              "-3"
            ]
          },
          "metadata": {},
          "execution_count": 72
        }
      ],
      "source": [
        "-5 // 2"
      ]
    },
    {
      "cell_type": "markdown",
      "id": "f760f61f",
      "metadata": {
        "id": "f760f61f"
      },
      "source": [
        "**modulus `%`**\n",
        "\n",
        "returns the remainder after a division operation"
      ]
    },
    {
      "cell_type": "code",
      "execution_count": null,
      "id": "883ab576",
      "metadata": {
        "id": "883ab576"
      },
      "outputs": [],
      "source": [
        "5 % 2"
      ]
    },
    {
      "cell_type": "code",
      "execution_count": 73,
      "id": "5cd863fc",
      "metadata": {
        "colab": {
          "base_uri": "https://localhost:8080/"
        },
        "id": "5cd863fc",
        "outputId": "498b22cd-521a-40e5-ef84-143f574b8362"
      },
      "outputs": [
        {
          "output_type": "stream",
          "name": "stdout",
          "text": [
            "2.75\n",
            "2.0\n",
            "1.5\n"
          ]
        }
      ],
      "source": [
        "print(5.5 / 2)\n",
        "print(5.5 // 2)\n",
        "print(5.5 % 2)"
      ]
    },
    {
      "cell_type": "markdown",
      "id": "f7b812d1",
      "metadata": {
        "id": "f7b812d1"
      },
      "source": [
        "**exponentiation `**` **"
      ]
    },
    {
      "cell_type": "code",
      "execution_count": null,
      "id": "65646db4",
      "metadata": {
        "id": "65646db4"
      },
      "outputs": [],
      "source": [
        "5**2"
      ]
    },
    {
      "cell_type": "markdown",
      "id": "d4e24480",
      "metadata": {
        "id": "d4e24480"
      },
      "source": [
        "## String Operators"
      ]
    },
    {
      "cell_type": "markdown",
      "id": "beddac76",
      "metadata": {
        "id": "beddac76"
      },
      "source": [
        "**concatenation `+`**"
      ]
    },
    {
      "cell_type": "code",
      "execution_count": 80,
      "id": "1b8c472f",
      "metadata": {
        "colab": {
          "base_uri": "https://localhost:8080/",
          "height": 53
        },
        "id": "1b8c472f",
        "outputId": "a72539dc-2aa2-4dbf-b861-ccb927e5ccac"
      },
      "outputs": [
        {
          "output_type": "stream",
          "name": "stdout",
          "text": [
            "Hello world!Goodbye world!\n"
          ]
        },
        {
          "output_type": "execute_result",
          "data": {
            "text/plain": [
              "'H'"
            ],
            "application/vnd.google.colaboratory.intrinsic+json": {
              "type": "string"
            }
          },
          "metadata": {},
          "execution_count": 80
        }
      ],
      "source": [
        "string1 = \"Hello world!\"\n",
        "string2 = 'Goodbye world!'\n",
        "\n",
        "print(string1 + string2)\n",
        "string1[0]"
      ]
    },
    {
      "cell_type": "code",
      "execution_count": 75,
      "id": "6d02ece1",
      "metadata": {
        "colab": {
          "base_uri": "https://localhost:8080/",
          "height": 36
        },
        "id": "6d02ece1",
        "outputId": "41f3172c-b294-4594-aff1-0458723ec004"
      },
      "outputs": [
        {
          "output_type": "execute_result",
          "data": {
            "text/plain": [
              "'Hello world!Goodbye world! Hello again!'"
            ],
            "application/vnd.google.colaboratory.intrinsic+json": {
              "type": "string"
            }
          },
          "metadata": {},
          "execution_count": 75
        }
      ],
      "source": [
        "string1 + string2 + ' Hello again!'"
      ]
    },
    {
      "cell_type": "code",
      "execution_count": 18,
      "id": "ffb4dd10",
      "metadata": {
        "colab": {
          "base_uri": "https://localhost:8080/"
        },
        "id": "ffb4dd10",
        "outputId": "c634cd74-d177-409b-9d31-175051c18b58"
      },
      "outputs": [
        {
          "output_type": "stream",
          "name": "stdout",
          "text": [
            "Hello world!Goodbye world! Hello again!\n"
          ]
        }
      ],
      "source": [
        "print(string1 + string2 + ' Hello again!')"
      ]
    },
    {
      "cell_type": "markdown",
      "id": "e65c547f",
      "metadata": {
        "id": "e65c547f"
      },
      "source": [
        "**repetition `*`**"
      ]
    },
    {
      "cell_type": "code",
      "execution_count": 19,
      "id": "c7f6ce3c",
      "metadata": {
        "colab": {
          "base_uri": "https://localhost:8080/",
          "height": 36
        },
        "id": "c7f6ce3c",
        "outputId": "62eaef72-a794-4392-b3b1-cd0547070001"
      },
      "outputs": [
        {
          "output_type": "execute_result",
          "data": {
            "text/plain": [
              "'Hello world!Hello world!'"
            ],
            "application/vnd.google.colaboratory.intrinsic+json": {
              "type": "string"
            }
          },
          "metadata": {},
          "execution_count": 19
        }
      ],
      "source": [
        "string1 * 2"
      ]
    },
    {
      "cell_type": "code",
      "execution_count": 78,
      "id": "b489cdeb",
      "metadata": {
        "colab": {
          "base_uri": "https://localhost:8080/"
        },
        "id": "b489cdeb",
        "outputId": "35d311d3-c8ed-4139-aa0e-ee9de961a9c0"
      },
      "outputs": [
        {
          "output_type": "stream",
          "name": "stdout",
          "text": [
            "Hello world!\n",
            "Hello world!\n",
            "Hello world!\n",
            "Hello world!\n",
            "Hello world!\n",
            "\n"
          ]
        }
      ],
      "source": [
        "# '\\n' moves to the next line (like hitting the return button)\n",
        "print((string1 + '\\n') * 5)"
      ]
    },
    {
      "cell_type": "markdown",
      "id": "1eb2f0fb",
      "metadata": {
        "id": "1eb2f0fb"
      },
      "source": [
        "**subsetting a string**"
      ]
    },
    {
      "cell_type": "code",
      "source": [
        "# extract the third through sixth characters\n",
        "string1[2:6]"
      ],
      "metadata": {
        "colab": {
          "base_uri": "https://localhost:8080/",
          "height": 36
        },
        "id": "nkXx_V8u4rhF",
        "outputId": "bca4bda5-2526-4989-fcfb-27d1c3af0360"
      },
      "id": "nkXx_V8u4rhF",
      "execution_count": 25,
      "outputs": [
        {
          "output_type": "execute_result",
          "data": {
            "text/plain": [
              "'llo '"
            ],
            "application/vnd.google.colaboratory.intrinsic+json": {
              "type": "string"
            }
          },
          "metadata": {},
          "execution_count": 25
        }
      ]
    },
    {
      "cell_type": "code",
      "execution_count": 82,
      "id": "f920bead",
      "metadata": {
        "colab": {
          "base_uri": "https://localhost:8080/"
        },
        "id": "f920bead",
        "outputId": "430b349a-2ae4-49b4-9233-feb3ee629dae"
      },
      "outputs": [
        {
          "output_type": "stream",
          "name": "stdout",
          "text": [
            "He\n",
            "He\n"
          ]
        },
        {
          "output_type": "execute_result",
          "data": {
            "text/plain": [
              "True"
            ]
          },
          "metadata": {},
          "execution_count": 82
        }
      ],
      "source": [
        "# extract the first 2 characters\n",
        "print(string1[0:2])\n",
        "print(string1[:2])\n",
        "\n",
        "string1[0:2] == string1[:2]"
      ]
    },
    {
      "cell_type": "code",
      "execution_count": null,
      "id": "02395bc2",
      "metadata": {
        "id": "02395bc2"
      },
      "outputs": [],
      "source": [
        "# extract the last 2 characters\n",
        "string1[-2:]"
      ]
    },
    {
      "cell_type": "code",
      "execution_count": 83,
      "id": "11b5f9fe",
      "metadata": {
        "colab": {
          "base_uri": "https://localhost:8080/"
        },
        "id": "11b5f9fe",
        "outputId": "1add1798-cdb9-43f4-95cd-ca873d816bd6"
      },
      "outputs": [
        {
          "output_type": "execute_result",
          "data": {
            "text/plain": [
              "False"
            ]
          },
          "metadata": {},
          "execution_count": 83
        }
      ],
      "source": [
        "string1.startswith('o')"
      ]
    },
    {
      "cell_type": "code",
      "execution_count": 84,
      "id": "bfe6abad",
      "metadata": {
        "colab": {
          "base_uri": "https://localhost:8080/"
        },
        "id": "bfe6abad",
        "outputId": "38d1b0c4-9b68-47e5-d7c6-61287411b7d4"
      },
      "outputs": [
        {
          "output_type": "execute_result",
          "data": {
            "text/plain": [
              "True"
            ]
          },
          "metadata": {},
          "execution_count": 84
        }
      ],
      "source": [
        "string1.endswith('!')"
      ]
    },
    {
      "cell_type": "markdown",
      "id": "2b532933",
      "metadata": {
        "id": "2b532933"
      },
      "source": [
        "**Python strings are *immutable* - cannot reassign elements**"
      ]
    },
    {
      "cell_type": "code",
      "source": [
        "st"
      ],
      "metadata": {
        "id": "-I_dNh8k5XLS"
      },
      "id": "-I_dNh8k5XLS",
      "execution_count": null,
      "outputs": []
    },
    {
      "cell_type": "code",
      "execution_count": 85,
      "id": "3eeaf3a4",
      "metadata": {
        "colab": {
          "base_uri": "https://localhost:8080/",
          "height": 175
        },
        "id": "3eeaf3a4",
        "outputId": "3e98fe3c-01f1-4dce-f1b9-94e2978bcfda"
      },
      "outputs": [
        {
          "output_type": "error",
          "ename": "TypeError",
          "evalue": "'str' object does not support item assignment",
          "traceback": [
            "\u001b[0;31m---------------------------------------------------------------------------\u001b[0m",
            "\u001b[0;31mTypeError\u001b[0m                                 Traceback (most recent call last)",
            "\u001b[0;32m<ipython-input-85-85b57f022a0c>\u001b[0m in \u001b[0;36m<cell line: 1>\u001b[0;34m()\u001b[0m\n\u001b[0;32m----> 1\u001b[0;31m \u001b[0mstring1\u001b[0m\u001b[0;34m[\u001b[0m\u001b[0;36m0\u001b[0m\u001b[0;34m]\u001b[0m \u001b[0;34m=\u001b[0m \u001b[0;34m'Y'\u001b[0m\u001b[0;34m\u001b[0m\u001b[0;34m\u001b[0m\u001b[0m\n\u001b[0m",
            "\u001b[0;31mTypeError\u001b[0m: 'str' object does not support item assignment"
          ]
        }
      ],
      "source": [
        "string1[0] = 'Y'"
      ]
    },
    {
      "cell_type": "markdown",
      "id": "74ab041a",
      "metadata": {
        "id": "74ab041a"
      },
      "source": [
        "## Comparison Operators\n",
        "\n",
        "comparisons are questions and return boolean values"
      ]
    },
    {
      "cell_type": "markdown",
      "id": "223926d9",
      "metadata": {
        "id": "223926d9"
      },
      "source": [
        "**equality `==`**"
      ]
    },
    {
      "cell_type": "code",
      "execution_count": 86,
      "id": "238eba4f",
      "metadata": {
        "colab": {
          "base_uri": "https://localhost:8080/"
        },
        "id": "238eba4f",
        "outputId": "91a51a23-fb60-4a3e-fc68-87a41cfa65e8"
      },
      "outputs": [
        {
          "output_type": "execute_result",
          "data": {
            "text/plain": [
              "True"
            ]
          },
          "metadata": {},
          "execution_count": 86
        }
      ],
      "source": [
        "# numeric\n",
        "25 == 4**2 + 9"
      ]
    },
    {
      "cell_type": "code",
      "execution_count": 87,
      "id": "bebcc082",
      "metadata": {
        "colab": {
          "base_uri": "https://localhost:8080/"
        },
        "id": "bebcc082",
        "outputId": "582134d3-d07f-4a2f-8494-bd41a3b2cbbb"
      },
      "outputs": [
        {
          "output_type": "execute_result",
          "data": {
            "text/plain": [
              "False"
            ]
          },
          "metadata": {},
          "execution_count": 87
        }
      ],
      "source": [
        "# string\n",
        "string1 == string2"
      ]
    },
    {
      "cell_type": "markdown",
      "id": "bd41f67a",
      "metadata": {
        "id": "bd41f67a"
      },
      "source": [
        "**inequality `!=`**"
      ]
    },
    {
      "cell_type": "code",
      "execution_count": 88,
      "id": "3f493f41",
      "metadata": {
        "colab": {
          "base_uri": "https://localhost:8080/"
        },
        "id": "3f493f41",
        "outputId": "0c2755ad-dbce-4805-947b-5297b2751170"
      },
      "outputs": [
        {
          "output_type": "execute_result",
          "data": {
            "text/plain": [
              "True"
            ]
          },
          "metadata": {},
          "execution_count": 88
        }
      ],
      "source": [
        "# numeric\n",
        "25 != 20 + 6"
      ]
    },
    {
      "cell_type": "code",
      "execution_count": 89,
      "id": "d3dcab60",
      "metadata": {
        "colab": {
          "base_uri": "https://localhost:8080/"
        },
        "id": "d3dcab60",
        "outputId": "bccf8c88-db9e-46bd-e19b-f526972d4a41"
      },
      "outputs": [
        {
          "output_type": "execute_result",
          "data": {
            "text/plain": [
              "True"
            ]
          },
          "metadata": {},
          "execution_count": 89
        }
      ],
      "source": [
        "# string\n",
        "string1 != string2"
      ]
    },
    {
      "cell_type": "markdown",
      "id": "85b81fc4",
      "metadata": {
        "id": "85b81fc4"
      },
      "source": [
        "**greater than `>`, less than `<`**"
      ]
    },
    {
      "cell_type": "code",
      "execution_count": 90,
      "id": "66ae66a2",
      "metadata": {
        "colab": {
          "base_uri": "https://localhost:8080/"
        },
        "id": "66ae66a2",
        "outputId": "7b387756-0bc4-4b2c-9bdc-8b1f51fa5c74"
      },
      "outputs": [
        {
          "output_type": "execute_result",
          "data": {
            "text/plain": [
              "True"
            ]
          },
          "metadata": {},
          "execution_count": 90
        }
      ],
      "source": [
        "20 > 10"
      ]
    },
    {
      "cell_type": "code",
      "execution_count": 91,
      "id": "cbc90b9f",
      "metadata": {
        "colab": {
          "base_uri": "https://localhost:8080/"
        },
        "id": "cbc90b9f",
        "outputId": "8102dd74-5c11-4003-8cb0-409d713bb27f"
      },
      "outputs": [
        {
          "output_type": "execute_result",
          "data": {
            "text/plain": [
              "True"
            ]
          },
          "metadata": {},
          "execution_count": 91
        }
      ],
      "source": [
        "2*10 >= 20"
      ]
    },
    {
      "cell_type": "code",
      "execution_count": 92,
      "id": "c9dc02ef",
      "metadata": {
        "colab": {
          "base_uri": "https://localhost:8080/"
        },
        "id": "c9dc02ef",
        "outputId": "a255c864-10b6-4538-ad58-25c3d1a88c05"
      },
      "outputs": [
        {
          "output_type": "execute_result",
          "data": {
            "text/plain": [
              "False"
            ]
          },
          "metadata": {},
          "execution_count": 92
        }
      ],
      "source": [
        "3%5 < 6%5"
      ]
    },
    {
      "cell_type": "code",
      "execution_count": 93,
      "id": "822d153c",
      "metadata": {
        "colab": {
          "base_uri": "https://localhost:8080/"
        },
        "id": "822d153c",
        "outputId": "ba30be5c-2a88-4705-90a7-dee6ae07ba3c"
      },
      "outputs": [
        {
          "output_type": "execute_result",
          "data": {
            "text/plain": [
              "True"
            ]
          },
          "metadata": {},
          "execution_count": 93
        }
      ],
      "source": [
        "-3 <= 0"
      ]
    },
    {
      "cell_type": "markdown",
      "id": "df67456e",
      "metadata": {
        "id": "df67456e"
      },
      "source": [
        "## Object ID\n",
        "\n",
        "Every variable created in Python is given a unique ID.\n",
        "\n",
        "This ID where the variable is stored in memory. The ID is for the variable, not the variable's value.\n",
        "\n",
        "> Exception: if the number is between -5 - 256 or a simple string with no spaces, it will not be given a unique id for memory optimization purposes\n",
        "\n",
        "We can find an object's ID using `id()`"
      ]
    },
    {
      "cell_type": "code",
      "execution_count": 94,
      "id": "a2e0fa0b",
      "metadata": {
        "id": "a2e0fa0b"
      },
      "outputs": [],
      "source": [
        "a = 278"
      ]
    },
    {
      "cell_type": "code",
      "execution_count": 95,
      "id": "015e463c",
      "metadata": {
        "id": "015e463c"
      },
      "outputs": [],
      "source": [
        "b = 278"
      ]
    },
    {
      "cell_type": "code",
      "execution_count": 96,
      "id": "98300a13",
      "metadata": {
        "colab": {
          "base_uri": "https://localhost:8080/"
        },
        "id": "98300a13",
        "outputId": "dbdcb310-99fb-456b-eaca-2726e60c143f"
      },
      "outputs": [
        {
          "output_type": "stream",
          "name": "stdout",
          "text": [
            "140164844758576\n",
            "140164844754320\n"
          ]
        }
      ],
      "source": [
        "print(id(a))\n",
        "print(id(b))"
      ]
    },
    {
      "cell_type": "code",
      "execution_count": 97,
      "id": "5608f8f6",
      "metadata": {
        "colab": {
          "base_uri": "https://localhost:8080/"
        },
        "id": "5608f8f6",
        "outputId": "8b944370-a6ea-4577-db29-baf626071aa0"
      },
      "outputs": [
        {
          "output_type": "execute_result",
          "data": {
            "text/plain": [
              "True"
            ]
          },
          "metadata": {},
          "execution_count": 97
        }
      ],
      "source": [
        "a == b # 278 = 278"
      ]
    },
    {
      "cell_type": "code",
      "execution_count": 98,
      "id": "7509da98",
      "metadata": {
        "colab": {
          "base_uri": "https://localhost:8080/"
        },
        "id": "7509da98",
        "outputId": "f95aa102-81f7-4595-8703-8cfcdd56273f"
      },
      "outputs": [
        {
          "output_type": "execute_result",
          "data": {
            "text/plain": [
              "False"
            ]
          },
          "metadata": {},
          "execution_count": 98
        }
      ],
      "source": [
        "id(a) == id(b)"
      ]
    },
    {
      "cell_type": "markdown",
      "id": "6bc15d1a",
      "metadata": {
        "id": "6bc15d1a"
      },
      "source": [
        "## Logical Operators"
      ]
    },
    {
      "cell_type": "markdown",
      "id": "0852b502",
      "metadata": {
        "id": "0852b502"
      },
      "source": [
        "**conjunctions `and`, `or`, `not`**\n",
        "\n",
        "Note that we group comparisons with parentheses"
      ]
    },
    {
      "cell_type": "code",
      "execution_count": null,
      "id": "94c739af",
      "metadata": {
        "id": "94c739af"
      },
      "outputs": [],
      "source": [
        "x = 10\n",
        "\n",
        "(x % 10 == 0) or (x < -1)"
      ]
    },
    {
      "cell_type": "code",
      "execution_count": null,
      "id": "c965353f",
      "metadata": {
        "id": "c965353f"
      },
      "outputs": [],
      "source": [
        "(x % 10 == 0) and (x < -1)"
      ]
    },
    {
      "cell_type": "code",
      "execution_count": null,
      "id": "0a5c8923",
      "metadata": {
        "id": "0a5c8923"
      },
      "outputs": [],
      "source": [
        "not x == 5"
      ]
    },
    {
      "cell_type": "markdown",
      "id": "2b2c6385",
      "metadata": {
        "id": "2b2c6385"
      },
      "source": [
        "**Identity `is`**\n",
        "\n",
        "The `is` keyword is used to test if two variables refer to the same object.\n",
        "\n",
        "The test returns `True` if the two objects are the same object.\n",
        "\n",
        "The test returns False if they are not the same object, even if the two objects are 100% equal.\n",
        "\n",
        "Use the `==` operator to test if two variables are equal.\n",
        "\n",
        "-- from [W3Schools on Identity Operators](https://www.w3schools.com/python/gloss_python_identity_operators.asp)"
      ]
    },
    {
      "cell_type": "code",
      "execution_count": 99,
      "id": "1fffb03e",
      "metadata": {
        "id": "1fffb03e"
      },
      "outputs": [],
      "source": [
        "x = ['apple', 'banana']\n",
        "y = ['apple', 'banana']\n",
        "z = x"
      ]
    },
    {
      "cell_type": "code",
      "execution_count": 104,
      "id": "7d1c3a7c",
      "metadata": {
        "colab": {
          "base_uri": "https://localhost:8080/"
        },
        "id": "7d1c3a7c",
        "outputId": "d269c8f2-2aa0-427f-929b-16d237f37214"
      },
      "outputs": [
        {
          "output_type": "stream",
          "name": "stdout",
          "text": [
            "140165701777280\n",
            "140165701777280\n"
          ]
        }
      ],
      "source": [
        "x is z\n",
        "print(id(z))\n",
        "print(id(x))\n"
      ]
    },
    {
      "cell_type": "code",
      "execution_count": null,
      "id": "3ad78cc4",
      "metadata": {
        "id": "3ad78cc4"
      },
      "outputs": [],
      "source": [
        "x is y"
      ]
    },
    {
      "cell_type": "code",
      "execution_count": null,
      "id": "98ea6ee2",
      "metadata": {
        "id": "98ea6ee2"
      },
      "outputs": [],
      "source": [
        "x == y"
      ]
    },
    {
      "cell_type": "code",
      "execution_count": null,
      "id": "c652f2de",
      "metadata": {
        "id": "c652f2de"
      },
      "outputs": [],
      "source": [
        "x == z"
      ]
    },
    {
      "cell_type": "markdown",
      "id": "47f381d0",
      "metadata": {
        "id": "47f381d0"
      },
      "source": [
        "**`isinstance()`**\n",
        "\n",
        "function returns `True` if the specified object is of the specified type, otherwise `False`"
      ]
    },
    {
      "cell_type": "code",
      "execution_count": 105,
      "id": "fc6373f1",
      "metadata": {
        "colab": {
          "base_uri": "https://localhost:8080/"
        },
        "id": "fc6373f1",
        "outputId": "0c61975b-bba3-40d3-d704-5e7589f2aa0a"
      },
      "outputs": [
        {
          "output_type": "execute_result",
          "data": {
            "text/plain": [
              "True"
            ]
          },
          "metadata": {},
          "execution_count": 105
        }
      ],
      "source": [
        "#example\n",
        "\n",
        "isinstance(\"Hello\", (float, int, str))"
      ]
    },
    {
      "cell_type": "code",
      "execution_count": 106,
      "id": "ffc578d5",
      "metadata": {
        "colab": {
          "base_uri": "https://localhost:8080/"
        },
        "id": "ffc578d5",
        "outputId": "8a3727d7-88d9-40e4-e542-ac06b3985f55"
      },
      "outputs": [
        {
          "output_type": "execute_result",
          "data": {
            "text/plain": [
              "False"
            ]
          },
          "metadata": {},
          "execution_count": 106
        }
      ],
      "source": [
        "#example\n",
        "isinstance(\"Hello\", int)"
      ]
    },
    {
      "cell_type": "markdown",
      "id": "eac52c21",
      "metadata": {
        "id": "eac52c21"
      },
      "source": [
        "## Unary Operators\n",
        "\n",
        "Python offers a short-cut for most operators. When updating a variable with an operation to that variable, such as:\n",
        "```python\n",
        "my_var = my_var + 1  # Incrementing\n",
        "```\n",
        "\n",
        "You can do this:\n",
        "```python\n",
        "my_var += 1\n",
        "```"
      ]
    },
    {
      "cell_type": "code",
      "source": [
        "x = 10\n",
        "x +=1\n",
        "x\n",
        "\n",
        "x -= x\n",
        "x"
      ],
      "metadata": {
        "colab": {
          "base_uri": "https://localhost:8080/"
        },
        "id": "amFqibvabtLf",
        "outputId": "7f92e3eb-0771-4f0f-9c56-062ce78029f2"
      },
      "id": "amFqibvabtLf",
      "execution_count": 110,
      "outputs": [
        {
          "output_type": "execute_result",
          "data": {
            "text/plain": [
              "0"
            ]
          },
          "metadata": {},
          "execution_count": 110
        }
      ]
    },
    {
      "cell_type": "markdown",
      "id": "52ffc918",
      "metadata": {
        "id": "52ffc918"
      },
      "source": [
        "Python supports many operators this way. Here are some:\n",
        "```python\n",
        "a -= a\n",
        "a \\= a\n",
        "a \\\\= a\n",
        "a %= a\n",
        "a *= a\n",
        "a **= a\n",
        "```"
      ]
    },
    {
      "cell_type": "markdown",
      "id": "aa92ce5d",
      "metadata": {
        "id": "aa92ce5d"
      },
      "source": [
        "## Expressions\n",
        "\n",
        "Variables, literal values, and operators are the building blocks of expressions.\n",
        "\n",
        "For example, the following combines three operators and four variables:"
      ]
    },
    {
      "cell_type": "code",
      "execution_count": 113,
      "id": "5058a10b",
      "metadata": {
        "colab": {
          "base_uri": "https://localhost:8080/"
        },
        "id": "5058a10b",
        "outputId": "f337df97-0a4a-417a-ff6b-8a7c0e0ff2ea"
      },
      "outputs": [
        {
          "output_type": "execute_result",
          "data": {
            "text/plain": [
              "4.5"
            ]
          },
          "metadata": {},
          "execution_count": 113
        }
      ],
      "source": [
        "(1 + 2) * 3 / 2"
      ]
    },
    {
      "cell_type": "markdown",
      "id": "bb74c18b",
      "metadata": {
        "id": "bb74c18b"
      },
      "source": [
        "Python employs **operator precedence** when evaluating expressions:\n",
        "\n",
        "```\n",
        "P – Parentheses\n",
        "E – Exponentiation\n",
        "M – Multiplication\n",
        "D – Division\n",
        "A – Addition\n",
        "S – Subtraction\n",
        "```"
      ]
    },
    {
      "cell_type": "code",
      "execution_count": null,
      "id": "febc7986",
      "metadata": {
        "id": "febc7986"
      },
      "outputs": [],
      "source": [
        "(1 + 2) * (3 / 2)"
      ]
    },
    {
      "cell_type": "markdown",
      "id": "fa23e2ea",
      "metadata": {
        "id": "fa23e2ea"
      },
      "source": [
        "Variables and literal values can be combined:"
      ]
    },
    {
      "cell_type": "code",
      "execution_count": 46,
      "id": "775ccb3e",
      "metadata": {
        "id": "775ccb3e"
      },
      "outputs": [],
      "source": [
        "y = 5\n",
        "m = 2.5\n",
        "b = 10"
      ]
    },
    {
      "cell_type": "code",
      "execution_count": null,
      "id": "f249f060",
      "metadata": {
        "id": "f249f060"
      },
      "outputs": [],
      "source": [
        "y = m * 10 + b\n",
        "y"
      ]
    },
    {
      "cell_type": "code",
      "execution_count": null,
      "id": "cd446cc6",
      "metadata": {
        "id": "cd446cc6"
      },
      "outputs": [],
      "source": [
        "y = m * 5 + b\n",
        "y"
      ]
    },
    {
      "cell_type": "markdown",
      "id": "fe3afbe8",
      "metadata": {
        "id": "fe3afbe8"
      },
      "source": [
        "Expresssions can be very complex.\n",
        "\n",
        "Expressions evaluate to a value, just as single variables do.\n",
        "\n",
        "Therefore, they can be put anywhere a value is accepted."
      ]
    },
    {
      "cell_type": "code",
      "execution_count": null,
      "id": "5ef7fe16",
      "metadata": {
        "id": "5ef7fe16"
      },
      "outputs": [],
      "source": [
        "int((y + 10) ** 8)"
      ]
    },
    {
      "cell_type": "code",
      "execution_count": 1,
      "id": "7e1279ab",
      "metadata": {
        "colab": {
          "base_uri": "https://localhost:8080/"
        },
        "id": "7e1279ab",
        "outputId": "7f8b5279-63b8-47a9-b8d1-3eab51cf996d"
      },
      "outputs": [
        {
          "output_type": "stream",
          "name": "stdout",
          "text": [
            "No mangos here.\n",
            "No mangos here.\n",
            "Hooray!  I found mangos.\n",
            "No mangos here.\n",
            "No mangos here.\n"
          ]
        }
      ],
      "source": [
        "\n",
        "food = [\"apples\", \"oranges\", \"mangos\", \"bananas\", \"blueberries\"]\n",
        "\n",
        "def find_fruit(fruit):\n",
        "  for fkjh in fruit:\n",
        "    if fkjh == \"mangos\" :\n",
        "      print(\"Hooray!  I found mangos.\")\n",
        "    else:\n",
        "      print(\"No mangos here.\")\n",
        "\n",
        "find_fruit(food)\n",
        "\n"
      ]
    }
  ],
  "metadata": {
    "kernelspec": {
      "display_name": "base",
      "language": "python",
      "name": "python3"
    },
    "language_info": {
      "codemirror_mode": {
        "name": "ipython",
        "version": 3
      },
      "file_extension": ".py",
      "mimetype": "text/x-python",
      "name": "python",
      "nbconvert_exporter": "python",
      "pygments_lexer": "ipython3",
      "version": "3.9.12"
    },
    "vscode": {
      "interpreter": {
        "hash": "256476f871f41dd9f410a4535ba940f788da543573a25285757e797fedf9c871"
      }
    },
    "colab": {
      "provenance": [],
      "include_colab_link": true
    }
  },
  "nbformat": 4,
  "nbformat_minor": 5
}
