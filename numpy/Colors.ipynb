{
  "nbformat": 4,
  "nbformat_minor": 0,
  "metadata": {
    "colab": {
      "provenance": [],
      "authorship_tag": "ABX9TyNuHiIeQiu9763A6b3kzJ+j",
      "include_colab_link": true
    },
    "kernelspec": {
      "name": "python3",
      "display_name": "Python 3"
    },
    "language_info": {
      "name": "python"
    }
  },
  "cells": [
    {
      "cell_type": "markdown",
      "metadata": {
        "id": "view-in-github",
        "colab_type": "text"
      },
      "source": [
        "<a href=\"https://colab.research.google.com/github/aaron-abrams-uva/DS1002-S24/blob/main/numpy/Colors.ipynb\" target=\"_parent\"><img src=\"https://colab.research.google.com/assets/colab-badge.svg\" alt=\"Open In Colab\"/></a>"
      ]
    },
    {
      "cell_type": "markdown",
      "source": [
        "Hi folks,\n",
        "\n",
        "I recommend playing around with this for 10 minutes or so.\n",
        "\n",
        "* Run the first code chunk first to get the necessary packages imported\n",
        "* Then mess around with the values in the second chunk and see what colors you get.\n",
        "Can you make the UVA blue and orange?  Can you make your favorite color?\n",
        "How do you make black? What about white?  What happens if you keep the same proportion of R to G to B but change the actual values?  Etc.  Play.  Discover.  Learn something.\n"
      ],
      "metadata": {
        "id": "zfVLE0EJbb79"
      }
    },
    {
      "cell_type": "code",
      "execution_count": null,
      "metadata": {
        "id": "-j02kEg6ypAk"
      },
      "outputs": [],
      "source": [
        "import numpy as np\n",
        "import matplotlib.pyplot as plt\n"
      ]
    },
    {
      "cell_type": "code",
      "source": [
        "color1 = np.zeros((50,50,3), dtype = int)\n",
        "color1[:,:,0] =         #\n",
        "color1[:,:,1] =         # fill in values between 0 and 255 on these three lines\n",
        "color1[:,:,2] =         #\n",
        "plt.imshow(color1)\n",
        "plt.show()\n",
        "\n",
        "color2 = np.zeros((50,50,3), dtype = int)\n",
        "color2[:,:,0] =         #\n",
        "color2[:,:,1] =         # fill in values between 0 and 255 on these three lines\n",
        "color2[:,:,2] =         #\n",
        "plt.imshow(color2)\n",
        "plt.show()\n",
        "\n",
        "color3 = np.zeros((50,50,3), dtype = int)\n",
        "color3[:,:,2] =         #\n",
        "color3[:,:,0] =         # fill in values between 0 and 255 on these three lines\n",
        "color3[:,:,2] =         #\n",
        "plt.imshow(color3)\n",
        "plt.show()\n",
        "\n",
        "\n",
        "'''\n",
        "   TAKEAWAY:  as far as the computer is concerned, a (single) color is,\n",
        "             *by definition*,\n",
        "             an array of 3 numbers.\n",
        "'''"
      ],
      "metadata": {
        "id": "a_z6zVBKyxaZ"
      },
      "execution_count": null,
      "outputs": []
    },
    {
      "cell_type": "code",
      "source": [],
      "metadata": {
        "id": "1ljSgoqJ1U7D"
      },
      "execution_count": null,
      "outputs": []
    }
  ]
}