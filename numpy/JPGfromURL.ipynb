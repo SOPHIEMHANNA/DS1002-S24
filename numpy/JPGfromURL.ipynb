{
  "nbformat": 4,
  "nbformat_minor": 0,
  "metadata": {
    "colab": {
      "provenance": [],
      "authorship_tag": "ABX9TyNAPb1n5GeAzTAE7qeydAsz",
      "include_colab_link": true
    },
    "kernelspec": {
      "name": "python3",
      "display_name": "Python 3"
    },
    "language_info": {
      "name": "python"
    }
  },
  "cells": [
    {
      "cell_type": "markdown",
      "metadata": {
        "id": "view-in-github",
        "colab_type": "text"
      },
      "source": [
        "<a href=\"https://colab.research.google.com/github/aaron-abrams-uva/DS1002-S24/blob/main/numpy/JPGfromURL.ipynb\" target=\"_parent\"><img src=\"https://colab.research.google.com/assets/colab-badge.svg\" alt=\"Open In Colab\"/></a>"
      ]
    },
    {
      "cell_type": "markdown",
      "source": [
        "To import a jpeg file into a text box, I can use this html code (double click to see the code):\n",
        "\n",
        "<img src=\"https://s3.amazonaws.com/eit-planttoolbox-prod/media/images/Bellis_Perennis--Morgaine--CC_BY_2.0.jpg\">\n",
        "\n",
        "I thought this would give me access to the file as an array, too, but I seem to have been mistaken.\n",
        "\n",
        "To load the jpeg into the colab session in a way that you can work with it, first import these packages:\n"
      ],
      "metadata": {
        "id": "76EezwrePcFo"
      }
    },
    {
      "cell_type": "code",
      "execution_count": 1,
      "metadata": {
        "id": "FlzY_j1QKVPA"
      },
      "outputs": [],
      "source": [
        "# required imports\n",
        "import numpy as np\n",
        "from PIL import Image\n",
        "import requests\n"
      ]
    },
    {
      "cell_type": "markdown",
      "source": [
        "\n",
        ". . . and then the following code should work.\n",
        "\n",
        "The variable `url` contains the url, of course.  After that, three functions are called, in this order:\n",
        "\n",
        "*   `requests.get()` gets the file\n",
        "*   `Image.open()` opens and identifies the file\n",
        "*   `np.asarray()` casts the file as a `numpy` array\n",
        "\n"
      ],
      "metadata": {
        "id": "yACbKG25QW4R"
      }
    },
    {
      "cell_type": "code",
      "source": [
        "# This code will bring the jpeg stored at the specified url\n",
        "# into colab, and then assign it (in numpy array form) to the variable 'image' :\n",
        "#\n",
        "url = 'https://s3.amazonaws.com/eit-planttoolbox-prod/media/images/Bellis_Perennis--Morgaine--CC_BY_2.0.jpg'\n",
        "image = np.asarray(Image.open(requests.get(url, stream=True).raw))"
      ],
      "metadata": {
        "id": "t35EewqMKj3y"
      },
      "execution_count": 6,
      "outputs": []
    },
    {
      "cell_type": "code",
      "source": [
        "print(image)"
      ],
      "metadata": {
        "id": "YE0M_KWsLxf5"
      },
      "execution_count": null,
      "outputs": []
    },
    {
      "cell_type": "code",
      "source": [
        "# Note that colab somehow knows this is an image,\n",
        "# and if you type just 'image' (without the print function)\n",
        "# it will show it as an image,\n",
        "# with a button (Show Data) you can click to show the array\n",
        "image"
      ],
      "metadata": {
        "id": "yHYTHtFDLObN"
      },
      "execution_count": null,
      "outputs": []
    }
  ]
}