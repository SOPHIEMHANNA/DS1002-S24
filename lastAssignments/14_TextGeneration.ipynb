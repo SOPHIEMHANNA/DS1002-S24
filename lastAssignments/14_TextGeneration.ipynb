{
  "nbformat": 4,
  "nbformat_minor": 0,
  "metadata": {
    "colab": {
      "provenance": [],
      "include_colab_link": true
    },
    "kernelspec": {
      "name": "python3",
      "display_name": "Python 3"
    },
    "language_info": {
      "name": "python"
    }
  },
  "cells": [
    {
      "cell_type": "markdown",
      "metadata": {
        "id": "view-in-github",
        "colab_type": "text"
      },
      "source": [
        "<a href=\"https://colab.research.google.com/github/SOPHIEMHANNA/DS1002-S24/blob/main/lastAssignments/14_TextGeneration.ipynb\" target=\"_parent\"><img src=\"https://colab.research.google.com/assets/colab-badge.svg\" alt=\"Open In Colab\"/></a>"
      ]
    },
    {
      "cell_type": "markdown",
      "source": [
        "## Final homework assignment:  generating text from a corpus\n",
        "\n",
        "Due Friday 3 May at 5 pm"
      ],
      "metadata": {
        "id": "tWbrZqoW5281"
      }
    },
    {
      "cell_type": "markdown",
      "source": [
        "We begin by loading all of Shakespeare's plays into a text file, and separating them into individual words.  This is made easy by the fact that someone already made a giant text file of these plays for us, and put it online.\n",
        "\n",
        "[Note that by changing the url in the following code chunk, you can load any text file that lives online in this way . . . see below.]\n",
        "\n",
        "Run the following code.  It should output a list of ten words, starting with 'From' and ending with 'rose'."
      ],
      "metadata": {
        "id": "7tMMjgkjF7gk"
      }
    },
    {
      "cell_type": "code",
      "source": [
        "from urllib.request import urlopen            #package for reading info from the web\n",
        "url='https://ocw.mit.edu/ans7870/6/6.006/s08/lecturenotes/files/t8.shakespeare.txt'   #web address\n",
        "text = urlopen(url).read().decode('utf-8')    #open web address, read file, convert to text\n",
        "shakespeare_words=text.split()[1651:]         #split text into words (not including preamble)\n",
        "shakespeare_words[:10]                        #display the first 10 words"
      ],
      "metadata": {
        "id": "PoW71ljm2GS-",
        "colab": {
          "base_uri": "https://localhost:8080/"
        },
        "outputId": "37b9e57c-c486-4caf-a28b-d8eb30213e89"
      },
      "execution_count": 1,
      "outputs": [
        {
          "output_type": "execute_result",
          "data": {
            "text/plain": [
              "['From',\n",
              " 'fairest',\n",
              " 'creatures',\n",
              " 'we',\n",
              " 'desire',\n",
              " 'increase,',\n",
              " 'That',\n",
              " 'thereby',\n",
              " \"beauty's\",\n",
              " 'rose']"
            ]
          },
          "metadata": {},
          "execution_count": 1
        }
      ]
    },
    {
      "cell_type": "markdown",
      "source": [
        "## 1. `nextwords` practice\n",
        "\n",
        "Create a practice function called `createNextwordsPractice` which takes a list of words called `wordlist` and returns a dictionary called `nextwordsPractice`. The keys of `nextwordsPractice` should be all the words in `wordlist`, and the value for any given key should be a list of all the words that follow the key word somewhere in the original `wordlist`.\n",
        "\n"
      ],
      "metadata": {
        "id": "AIeohQaAHRF8"
      }
    },
    {
      "cell_type": "code",
      "source": [
        "\n",
        "def createNextwordsPractice(wordlist):\n",
        "    nextwordsPractice = {}\n",
        "\n",
        "    for i in range(len(wordlist) - 1):\n",
        "        current_word = wordlist[i]\n",
        "        next_word = wordlist[i + 1]\n",
        "\n",
        "        if current_word in nextwordsPractice:\n",
        "            nextwordsPractice[current_word].append(next_word)\n",
        "        else:\n",
        "            nextwordsPractice[current_word] = [next_word]\n",
        "\n",
        "    last_word = wordlist[-1]\n",
        "    if last_word not in nextwordsPractice:\n",
        "        nextwordsPractice[last_word] = []\n",
        "\n",
        "    return nextwordsPractice"
      ],
      "metadata": {
        "id": "2XZa2K3C3InW"
      },
      "execution_count": 10,
      "outputs": []
    },
    {
      "cell_type": "markdown",
      "source": [
        "Run the following code:"
      ],
      "metadata": {
        "id": "FH3N2raWjtfd"
      }
    },
    {
      "cell_type": "code",
      "source": [
        "practice = createNextwordsPractice(shakespeare_words)\n",
        "practice['From']"
      ],
      "metadata": {
        "id": "P3M8beYAjiie",
        "colab": {
          "base_uri": "https://localhost:8080/"
        },
        "outputId": "1ac337aa-cbf6-400b-8223-87278011f0ce"
      },
      "execution_count": 11,
      "outputs": [
        {
          "output_type": "execute_result",
          "data": {
            "text/plain": [
              "['fairest',\n",
              " 'his',\n",
              " 'sullen',\n",
              " 'limits',\n",
              " 'hands',\n",
              " 'whence',\n",
              " 'where',\n",
              " 'me',\n",
              " 'this',\n",
              " 'thy',\n",
              " 'hence',\n",
              " 'thee,',\n",
              " 'you',\n",
              " 'heaven',\n",
              " 'her',\n",
              " 'simple',\n",
              " 'whence',\n",
              " 'below',\n",
              " 'lowest',\n",
              " 'courtly',\n",
              " 'son',\n",
              " 'the',\n",
              " 'the',\n",
              " 'Sicyon,',\n",
              " 'Alexandria',\n",
              " 'Silvius,',\n",
              " 'mine',\n",
              " 'the',\n",
              " 'firm',\n",
              " 'Egypt',\n",
              " 'Antony',\n",
              " 'thine',\n",
              " 'that',\n",
              " 'my',\n",
              " 'me',\n",
              " 'henceforth',\n",
              " 'tyrant',\n",
              " 'seventeen',\n",
              " 'miserable',\n",
              " 'whom',\n",
              " 'my',\n",
              " 'whence,',\n",
              " 'me',\n",
              " 'me',\n",
              " 'slaves',\n",
              " 'every',\n",
              " 'rascals',\n",
              " 'whom',\n",
              " 'where',\n",
              " \"th'\",\n",
              " 'Rome',\n",
              " 'off',\n",
              " 'these',\n",
              " 'twelve',\n",
              " \"th'\",\n",
              " 'whence?',\n",
              " 'Rome.',\n",
              " 'thy',\n",
              " 'Gallia',\n",
              " 'fairies',\n",
              " 'off',\n",
              " \"th'\",\n",
              " 'most',\n",
              " 'thy',\n",
              " 'youth',\n",
              " 'every',\n",
              " 'whose',\n",
              " 'so',\n",
              " 'one',\n",
              " 'this',\n",
              " 'the',\n",
              " 'east',\n",
              " 'action',\n",
              " 'my',\n",
              " 'this',\n",
              " 'Leonati',\n",
              " 'her',\n",
              " 'chance',\n",
              " 'south',\n",
              " 'our',\n",
              " 'whence',\n",
              " 'the',\n",
              " 'top',\n",
              " 'this',\n",
              " 'our',\n",
              " 'that',\n",
              " 'me,',\n",
              " 'fashion',\n",
              " 'the',\n",
              " 'another',\n",
              " 'Hamlet?',\n",
              " 'whence',\n",
              " 'whom',\n",
              " \"Rumour's\",\n",
              " 'whence',\n",
              " 'the',\n",
              " 'a',\n",
              " 'a',\n",
              " 'enemies',\n",
              " 'every',\n",
              " 'this',\n",
              " 'the',\n",
              " 'open',\n",
              " 'whom',\n",
              " \"glist'ring\",\n",
              " 'our',\n",
              " 'him,',\n",
              " 'his',\n",
              " 'him,',\n",
              " 'camp',\n",
              " 'this',\n",
              " 'off',\n",
              " 'helmet',\n",
              " 'him',\n",
              " 'off',\n",
              " 'Lionel',\n",
              " 'John',\n",
              " 'famous',\n",
              " 'envious',\n",
              " 'whence',\n",
              " 'thence',\n",
              " 'bought',\n",
              " 'thee,',\n",
              " 'top',\n",
              " 'thence',\n",
              " 'meaning',\n",
              " \"treason's\",\n",
              " 'such',\n",
              " 'thee',\n",
              " 'Ireland',\n",
              " \"Clifford's\",\n",
              " 'your',\n",
              " 'London',\n",
              " 'whence',\n",
              " 'off',\n",
              " 'whence',\n",
              " 'Scotland',\n",
              " 'such',\n",
              " 'worthy',\n",
              " 'these',\n",
              " 'giving',\n",
              " 'France?',\n",
              " 'Ravenspurgh',\n",
              " 'shelves',\n",
              " 'those',\n",
              " 'his',\n",
              " 'sincere',\n",
              " 'every',\n",
              " 'foreign',\n",
              " 'princes',\n",
              " 'these',\n",
              " 'any',\n",
              " 'Ampthill,',\n",
              " 'your',\n",
              " 'hence',\n",
              " 'her',\n",
              " 'henceforth',\n",
              " 'France',\n",
              " 'whom',\n",
              " 'that',\n",
              " 'first',\n",
              " 'north',\n",
              " 'all',\n",
              " 'a',\n",
              " 'his',\n",
              " 'France',\n",
              " 'forth',\n",
              " 'whose',\n",
              " 'forth',\n",
              " 'this',\n",
              " 'out',\n",
              " 'forth',\n",
              " 'that',\n",
              " 'the',\n",
              " 'which',\n",
              " 'whom',\n",
              " 'what',\n",
              " 'the',\n",
              " 'hence',\n",
              " 'this',\n",
              " 'Goneril',\n",
              " 'those',\n",
              " 'seasons',\n",
              " 'that',\n",
              " 'her',\n",
              " 'the',\n",
              " 'a',\n",
              " 'tawny',\n",
              " \"reason's\",\n",
              " 'my',\n",
              " 'which',\n",
              " 'my',\n",
              " 'the',\n",
              " \"women's\",\n",
              " 'whence',\n",
              " \"women's\",\n",
              " 'morn',\n",
              " 'what',\n",
              " 'Fife,',\n",
              " 'hence',\n",
              " 'this',\n",
              " 'thence',\n",
              " 'whom',\n",
              " 'the',\n",
              " 'this',\n",
              " 'whence',\n",
              " 'what',\n",
              " 'over-credulous',\n",
              " 'which',\n",
              " 'too',\n",
              " 'whom',\n",
              " 'his',\n",
              " 'fasting',\n",
              " 'thee;',\n",
              " \"flow'ry\",\n",
              " 'thine',\n",
              " 'such',\n",
              " 'our',\n",
              " 'such',\n",
              " 'the',\n",
              " 'the',\n",
              " 'whom',\n",
              " 'Tripolis,',\n",
              " 'Lisbon,',\n",
              " 'out',\n",
              " 'any',\n",
              " 'brassy',\n",
              " 'stubborn',\n",
              " 'both,',\n",
              " 'the',\n",
              " 'the',\n",
              " 'time',\n",
              " 'Athens',\n",
              " \"lovers'\",\n",
              " 'Perigouna,',\n",
              " 'our',\n",
              " 'sleeping',\n",
              " \"monster's\",\n",
              " 'these',\n",
              " 'off',\n",
              " 'the',\n",
              " 'my',\n",
              " 'Claudio,',\n",
              " 'men',\n",
              " 'year',\n",
              " 'her',\n",
              " 'him',\n",
              " 'one',\n",
              " 'jealousy!',\n",
              " 'whence',\n",
              " 'the',\n",
              " 'any',\n",
              " 'the',\n",
              " 'this',\n",
              " 'giving',\n",
              " 'where',\n",
              " 'forth',\n",
              " 'some',\n",
              " 'Ravenspurgh',\n",
              " 'the',\n",
              " 'forth',\n",
              " 'off',\n",
              " 'my',\n",
              " \"Richard's\",\n",
              " 'out',\n",
              " 'sun',\n",
              " \"plume-pluck'd\",\n",
              " 'which',\n",
              " 'whence',\n",
              " 'your',\n",
              " 'whence',\n",
              " 'cold',\n",
              " 'wayward',\n",
              " 'that',\n",
              " 'this',\n",
              " 'my',\n",
              " 'the',\n",
              " 'all',\n",
              " 'forth',\n",
              " 'which',\n",
              " 'all',\n",
              " 'Tamworth',\n",
              " 'the',\n",
              " 'ancient',\n",
              " 'forth',\n",
              " \"Love's\",\n",
              " 'forth',\n",
              " 'off',\n",
              " 'this',\n",
              " 'all',\n",
              " 'Florence,',\n",
              " 'mine',\n",
              " 'the',\n",
              " 'what',\n",
              " 'me,',\n",
              " 'bogs,',\n",
              " 'me',\n",
              " 'Milan',\n",
              " 'toe',\n",
              " 'eaves',\n",
              " 'strange',\n",
              " 'whence',\n",
              " 'Isidore:',\n",
              " 'our',\n",
              " 'forth',\n",
              " 'change',\n",
              " \"gen'ral\",\n",
              " 'high',\n",
              " 'Alcibiades',\n",
              " 'niggard',\n",
              " 'weary',\n",
              " 'where',\n",
              " 'whence',\n",
              " 'this',\n",
              " 'these',\n",
              " 'thousand',\n",
              " 'heaven!',\n",
              " 'isles',\n",
              " 'his',\n",
              " 'Troy.',\n",
              " \"Cupid's\",\n",
              " 'false',\n",
              " 'certain',\n",
              " 'Troy',\n",
              " 'heart',\n",
              " 'whence,',\n",
              " 'my',\n",
              " 'the',\n",
              " 'the',\n",
              " 'my',\n",
              " 'a',\n",
              " 'hence,',\n",
              " 'Milan.',\n",
              " 'whom?',\n",
              " 'my',\n",
              " 'heartiness,',\n",
              " 'east,',\n",
              " 'course',\n",
              " 'him',\n",
              " 'our',\n",
              " 'all',\n",
              " 'your',\n",
              " 'those',\n",
              " 'the',\n",
              " \"Dis's\",\n",
              " 'the',\n",
              " 'my',\n",
              " 'thy',\n",
              " 'off']"
            ]
          },
          "metadata": {},
          "execution_count": 11
        }
      ]
    },
    {
      "cell_type": "code",
      "source": [
        "practice['rose']"
      ],
      "metadata": {
        "id": "W5FCOXElICLb",
        "colab": {
          "base_uri": "https://localhost:8080/"
        },
        "outputId": "d06e64e4-03bd-4f19-ea0a-f15f2c8f3d1d"
      },
      "execution_count": 12,
      "outputs": [
        {
          "output_type": "execute_result",
          "data": {
            "text/plain": [
              "['might',\n",
              " 'looks',\n",
              " 'is',\n",
              " 'of',\n",
              " 'Of',\n",
              " 'may',\n",
              " 'will',\n",
              " 'of',\n",
              " 'From',\n",
              " 'and',\n",
              " 'of',\n",
              " 'both',\n",
              " 'with',\n",
              " 'from',\n",
              " 'with',\n",
              " 'with',\n",
              " 'side.',\n",
              " 'red,',\n",
              " 'too.',\n",
              " 'in',\n",
              " 'a',\n",
              " 'a',\n",
              " 'I',\n",
              " 'against',\n",
              " 'that',\n",
              " 'and',\n",
              " 'from',\n",
              " 'again,',\n",
              " 'Lest',\n",
              " 'against',\n",
              " 'Than',\n",
              " \"distill'd\",\n",
              " 'on',\n",
              " 'up',\n",
              " 'in',\n",
              " 'wither.',\n",
              " 'and',\n",
              " 'By',\n",
              " 'again?',\n",
              " 'he']"
            ]
          },
          "metadata": {},
          "execution_count": 12
        }
      ]
    },
    {
      "cell_type": "code",
      "source": [
        "practice['rose.']"
      ],
      "metadata": {
        "id": "Vr57wNx5BO4K",
        "colab": {
          "base_uri": "https://localhost:8080/"
        },
        "outputId": "f181bb38-e165-4ac1-e257-f4eaa3c7b8ce"
      },
      "execution_count": 13,
      "outputs": [
        {
          "output_type": "execute_result",
          "data": {
            "text/plain": [
              "['It']"
            ]
          },
          "metadata": {},
          "execution_count": 13
        }
      ]
    },
    {
      "cell_type": "markdown",
      "source": [
        "## 2. `nextwords` for real:  new sentences.\n",
        "\n",
        "Next, write a new function called `createNextwords` which takes a `wordlist` and returns a dictionary of `nextwords`, but now with a new additional feature.  \n",
        "In addition to the keys from problem 1, add a special key to the dictionary, which will be the symbol '%'.  This key will signify the first word of a sentence. When scanning the wordlist to construct the `nextwords` dictionary, normally you would add `wordlist[i+1]` to the list `nextwords[wordlist[i]]`. However, if `wordlist[i]` ends with a period, then you should instead add `wordlist[i+1]` to the list nextwords['%']. Also add the very first word of `wordlist` to nextwords['%'].\n",
        "\n",
        "\n",
        "You should be able to produce this output:\n",
        "```\n",
        "> shakespeare_nextwords=createNextwords(shakespeare_words)\n",
        "> shakespeare_nextwords['Rose']\n",
        "['at', 'or', 'or', 'and']\n",
        "\n",
        "> shakespeare_nextwords['rose.']\n",
        "[]\n",
        "\n",
        "> len(shakespeare_nextwords['%'])\n",
        "76543\n",
        "```"
      ],
      "metadata": {
        "id": "t221x1X3iRVA"
      }
    },
    {
      "cell_type": "code",
      "source": [
        "def createNextwords(wordlist):\n",
        "    nextwords = {'%': []}\n",
        "\n",
        "    if wordlist:\n",
        "        nextwords['%'].append(wordlist[0])\n",
        "\n",
        "    for i in range(len(wordlist) - 1):\n",
        "        current_word = wordlist[i]\n",
        "        next_word = wordlist[i + 1]\n",
        "\n",
        "        if current_word.endswith('.'):\n",
        "            nextwords['%'].append(next_word)\n",
        "        else:\n",
        "            if current_word in nextwords:\n",
        "                nextwords[current_word].append(next_word)\n",
        "            else:\n",
        "                nextwords[current_word] = [next_word]\n",
        "\n",
        "\n",
        "    last_word = wordlist[-1]\n",
        "    if last_word not in nextwords:\n",
        "        nextwords[last_word] = []\n",
        "\n",
        "    return nextwords\n"
      ],
      "metadata": {
        "id": "Ze_-Uv2alRWX"
      },
      "execution_count": 22,
      "outputs": []
    },
    {
      "cell_type": "markdown",
      "source": [
        "Run the following code:"
      ],
      "metadata": {
        "id": "x7bamoxBlX6Q"
      }
    },
    {
      "cell_type": "code",
      "source": [
        "shakespeare_nextwords = createNextwords(shakespeare_words)\n",
        "\n",
        "print(shakespeare_nextwords['Rose'])\n",
        "print(len(shakespeare_nextwords['%']))"
      ],
      "metadata": {
        "id": "xv4ANlzvlZ2e",
        "colab": {
          "base_uri": "https://localhost:8080/"
        },
        "outputId": "daac3744-100d-4790-8575-1a14299f572d"
      },
      "execution_count": 23,
      "outputs": [
        {
          "output_type": "stream",
          "name": "stdout",
          "text": [
            "['at', 'or', 'or', 'and']\n",
            "76543\n"
          ]
        }
      ]
    },
    {
      "cell_type": "code",
      "source": [
        "print(len(shakespeare_nextwords['rose']))"
      ],
      "metadata": {
        "id": "NsLW7PYYCj1r",
        "colab": {
          "base_uri": "https://localhost:8080/"
        },
        "outputId": "d90ec507-0c85-4ab5-9ad9-9cd93fbf9957"
      },
      "execution_count": 24,
      "outputs": [
        {
          "output_type": "stream",
          "name": "stdout",
          "text": [
            "40\n"
          ]
        }
      ]
    },
    {
      "cell_type": "code",
      "source": [
        "print(shakespeare_nextwords['rose.'])"
      ],
      "metadata": {
        "id": "NyjLxUKiIPqG",
        "colab": {
          "base_uri": "https://localhost:8080/",
          "height": 144
        },
        "outputId": "3440aed7-9b79-4a46-b5fb-106a64aa75c7"
      },
      "execution_count": 27,
      "outputs": [
        {
          "output_type": "error",
          "ename": "KeyError",
          "evalue": "'rose.'",
          "traceback": [
            "\u001b[0;31m---------------------------------------------------------------------------\u001b[0m",
            "\u001b[0;31mKeyError\u001b[0m                                  Traceback (most recent call last)",
            "\u001b[0;32m<ipython-input-27-5ec62f6c566a>\u001b[0m in \u001b[0;36m<cell line: 1>\u001b[0;34m()\u001b[0m\n\u001b[0;32m----> 1\u001b[0;31m \u001b[0mprint\u001b[0m\u001b[0;34m(\u001b[0m\u001b[0mshakespeare_nextwords\u001b[0m\u001b[0;34m[\u001b[0m\u001b[0;34m'rose.'\u001b[0m\u001b[0;34m]\u001b[0m\u001b[0;34m)\u001b[0m\u001b[0;34m\u001b[0m\u001b[0;34m\u001b[0m\u001b[0m\n\u001b[0m",
            "\u001b[0;31mKeyError\u001b[0m: 'rose.'"
          ]
        }
      ]
    },
    {
      "cell_type": "code",
      "source": [
        "#code if there is no period works - don't know why there is an error above. I've tried everything.\n",
        "print(shakespeare_nextwords['rose'])"
      ],
      "metadata": {
        "colab": {
          "base_uri": "https://localhost:8080/"
        },
        "id": "bRj8XjReuJfE",
        "outputId": "1314e13f-c867-4243-f17c-12c36e7f344f"
      },
      "execution_count": 34,
      "outputs": [
        {
          "output_type": "stream",
          "name": "stdout",
          "text": [
            "['might', 'looks', 'is', 'of', 'Of', 'may', 'will', 'of', 'From', 'and', 'of', 'both', 'with', 'from', 'with', 'with', 'side.', 'red,', 'too.', 'in', 'a', 'a', 'I', 'against', 'that', 'and', 'from', 'again,', 'Lest', 'against', 'Than', \"distill'd\", 'on', 'up', 'in', 'wither.', 'and', 'By', 'again?', 'he']\n"
          ]
        }
      ]
    },
    {
      "cell_type": "markdown",
      "source": [
        "## 3.  Make your own Shakespeare play\n",
        "\n",
        "Okay, that may be a bit of an exaggeration.  Anyway, next up is text generation.  \n",
        "We'll need the choice function:"
      ],
      "metadata": {
        "id": "BCIAfYSIX3VC"
      }
    },
    {
      "cell_type": "code",
      "source": [
        "from random import choice"
      ],
      "metadata": {
        "id": "rbBHDv55Biae"
      },
      "execution_count": 28,
      "outputs": []
    },
    {
      "cell_type": "markdown",
      "source": [
        "This function chooses a random element from a list.  Run this code a few times:"
      ],
      "metadata": {
        "id": "-vCM3Z0BmAw9"
      }
    },
    {
      "cell_type": "code",
      "source": [
        "choice([1, 17, 34, 289])"
      ],
      "metadata": {
        "colab": {
          "base_uri": "https://localhost:8080/"
        },
        "id": "FGMf-UmAl_uf",
        "outputId": "e3a6c206-cf0e-4064-ba2d-169234a66cdc"
      },
      "execution_count": 29,
      "outputs": [
        {
          "output_type": "execute_result",
          "data": {
            "text/plain": [
              "289"
            ]
          },
          "metadata": {},
          "execution_count": 29
        }
      ]
    },
    {
      "cell_type": "markdown",
      "source": [
        "Now, create a function called `makePlay(nextwords,n)` which takes a dictionary `nextwords` and a number `n`, and follows these steps:\n",
        "1. Define an empty `newplay` string.  (I did this for you.)\n",
        "2. Set `currentword` equal to '%'.\n",
        "3. Start a for-loop that will run `n` times.\n",
        "4. Randomly choose a word from the list `nextwords[currentword]`.\n",
        "5. Add the chosen word to `newplay`, followed by a space `' '` character.\n",
        "6. If the chosen word ends in a period, add a newline character '\\n' and set `currentword` equal to `%`.\n",
        "7. Otherwise, set `currentword` equal to the chosen word.\n",
        "8. Go back to step 4.\n",
        "9. When all `n` iterations have finished, your function should return `newplay`."
      ],
      "metadata": {
        "id": "ZmLqxclQYMpl"
      }
    },
    {
      "cell_type": "code",
      "source": [
        "import random\n",
        "\n",
        "def makePlay(nextwords, n):\n",
        "    newplay = ''\n",
        "    currentword = '%'\n",
        "\n",
        "    for _ in range(n):\n",
        "        chosen_word = random.choice(nextwords[currentword])\n",
        "\n",
        "        newplay += chosen_word + ' '\n",
        "\n",
        "        if chosen_word.endswith('.'):\n",
        "            newplay += '\\n'\n",
        "            currentword = '%'\n",
        "        else:\n",
        "            currentword = chosen_word\n",
        "\n",
        "    return newplay"
      ],
      "metadata": {
        "id": "gMxDF-MiYqD2"
      },
      "execution_count": 31,
      "outputs": []
    },
    {
      "cell_type": "markdown",
      "source": [
        "Now create a 1000 word Shakesperian play by running the following code:"
      ],
      "metadata": {
        "id": "v_uCxqDZtuhP"
      }
    },
    {
      "cell_type": "code",
      "source": [
        "nextwords=createNextwords(shakespeare_words)\n",
        "newplay=makePlay(nextwords,1000)\n",
        "print(newplay)"
      ],
      "metadata": {
        "id": "KVtzPXWWEdDR",
        "colab": {
          "base_uri": "https://localhost:8080/"
        },
        "outputId": "3851f9f8-0cd1-4c1e-ec1b-c76e2507a69e"
      },
      "execution_count": 32,
      "outputs": [
        {
          "output_type": "stream",
          "name": "stdout",
          "text": [
            "How chance to acquit thee! I shall find Must die as by nine wise words; therefore it truly. \n",
            "Enter ARMADO and I have wrong'd her, The wanton Edward our courtesy a horse as much as soft music, moody and done to-day a time receive If sanctimony be so. \n",
            "DUCHESS. \n",
            "There's fresher clothes; and could see the rock by their throats, Of him the helmets of drink, sir, let him in. \n",
            "We are fools and inly wept, The moon and for my lord. \n",
            "Why, so merrily. \n",
            "I'll serve Got, and BUCKINGHAM in life in thy reputation. \n",
            "Hero. \n",
            "Will you kill the youth will excuse her capon's leg? No. \n",
            "PAGE. \n",
            "FRENCH KING. \n",
            "His wife That might have you take that they ask, That, in this unpriz'd precious thing! [To the rather for that mak'st me embrace thee I hear that fault to you, Prince of these golden vizards show her be these brows As we may grow in pity is at honest man PETER, guarded with obstinate repulse of his grandam, never come on. \n",
            "Fie, Publius, come for that I will clog the throned gods, I will attend on one word all is open; The DUKE'S palace Enter servants from my sin, Heaven knows, in safety, to your doings in you. \n",
            "Heaven doth sway in joy: Why dost thou urge me offended me, I consanguineous? Am something in respect you; and they will, Then threw it is fierce bent my more in the forfended place? Dost thou let that for whom all together, and dried When I prithee take the cart as 'twere, a man. \n",
            "GOBBO. \n",
            "If to Lord of your price of your patience, all these French be ready to my choughs that loves me the lamb. \n",
            "LAFEU. \n",
            "Nay, you see thou that did contain ourselves, And in's wits. \n",
            "It doth make thee at faults. \n",
            "Enter an idle here? A ROMAN CAPTAIN TWO FRENCH POWER and so well known she comes here? If she is a word of you. \n",
            "Pray sit I have no less. \n",
            "Enter FRANCIS and CLARENCE and slain as of my lord. \n",
            "ANTONY. \n",
            "You denied you word again Aloft the fierce dragons' spleens- Have you say so, Which is merely thoughts. \n",
            "CYMBELINE. \n",
            "PISTOL. \n",
            "DROMIO OF SYRACUSE. \n",
            "There's beggary Is turn'd my lords. \n",
            "The gracious Duke, Stand fast, protesting oath is this?- Company! Stay. \n",
            "Benedick, no; no, they come to any impediment, I banish thee our company, but not for your unhallowed dam, I'll promise aught, Thy child his youth. \n",
            "IAGO. \n",
            "Enter Othello. \n",
            "TRANIO. \n",
            "I resign, and that mongrel? Knight. \n",
            "ORLANDO. \n",
            "O Cromwell, A mother comes. \n",
            "There Minotaurs and sovereign, He shall we be the charge will pursue him from him. \n",
            "You tender heart for wantonness. \n",
            "I like the butt were moulded out into a Roman. \n",
            "Exeunt THE COMPLETE WORKS OF SYRACUSE. \n",
            "HIPPOLYTA. \n",
            "I come to give preceptial medicine in prayer upon my countrv's light, and ANTONIO GONZALO. \n",
            "O rarely does a retreat and station where I know he will nobly named so, why I wear my success. \n",
            "Go, hang him, I'll lay those eyes add we long travel I do you had but there's not the time, who comes Kent. \n",
            "Mar. \n",
            "I will have said nor then he that purpose, it go; and yet hanging of laws, Against the dog bark.' O wise men do you invisible. \n",
            "He turn'd out of flow'rs. \n",
            "He is gone to Antipholus of a man! This field-bed is a bark; And loses all. \n",
            "To make all of my father was at the bleak winds of money, or pain it in? were't good? Or my peace, Profaners of you. \n",
            "Here, my head Stoop low and, for words. \n",
            "But what one dainty Bacchus with an arbour, we stoop and is 'mildly.' Pray let's see your form. \n",
            "It seems the state secure, foolhardy King. \n",
            "O the remain Perplex'd in russet yeas, and the leg. \n",
            "You. \n",
            "Why, what to visit her. \n",
            "All our silence drinks all these; and the fashion fit. \n",
            "EDWARD. \n",
            "I said They do what an outward composition that impatience waiteth on the woman will bid me your brother warr'd he is to hear that he is already They swore before. \n",
            "O, Signior Benedick, For I not Bardolph's foe, And there, nor now. \n",
            "Tomorrow, and I thank you' or bow the King himself. \n",
            "ELBOW. \n",
            "More sharper known; but a dangerous courtesy. \n",
            "LADY FAULCONBRIDGE, and too near Athens is thy trunk which of mine. \n",
            "Now for 'em. \n",
            "Pluck but yet words in twain I' th' cause, my love? Rom. \n",
            "Ham. \n",
            "Lives not so with some others MENENIUS. \n",
            "By favours in your thought; Believe me, and let them sithence? BRUTUS. \n",
            "Then but will discharge you swallowed his show'rs. \n",
            "Be merry, for your house's top, invisible. \n",
            "Sail how live? Is as thou ever have there be too roughly. \n",
            "My soul gratis? At Ely House. \n",
            "BASTARD. \n",
            "If your way, so; if Rome stand in France, The curse my hand; Banquo's safe? Such and speculations Intelligent of our offence in the worst objections. \n",
            "Your lord and durst not in heaven. \n",
            "Enter the soldier be it more will Claudio prepar'd. \n",
            "Shall break the year of you, and her strong the earth; And whatsoever god he should be greeted, if the Dauphin's mind. \n",
            "Enter, [with his sense Thou hast prevail'd; I have conspir'd against the conquest won, That shone bright out-shining beams o' th' Roman bear her go learn that; an eye fears, resolv'd, Be rein'd again but Hamlet.] 'Tis hatch'd, and so o'er-match'd. \n",
            "Men into forfeit; seek to use my desires. \n",
            "Come, sir, am sure, and buck-baskets! Well, more than do more shame you woo'd my life to't then. \n",
            "My sisterly remorse of it, sir. \n",
            "Tell me as the level of unpaved eunuch to do, when you bade thee and detested vale of less Than dangerous honour. \n",
            "Osr. \n",
            "Claud. \n",
            "THIRD WITCH. \n",
            "Be pleas'd me for beauteous clay, Do so; my liege? KING HENRY. \n",
            "I cannot, best 'parel that you This fool's paradise, as petty artire in him for tribute; that sweeps along, Holding Corioli in her own! Hot. \n",
            "I run from \n"
          ]
        }
      ]
    },
    {
      "cell_type": "markdown",
      "source": [
        "At this point you might enjoy finding other sources of text on the internet and replacing the url at the top of this notebook. You can use song lyrics, news articles, etc. You just need to find files ending with '.txt'. Alternatively, you can copy and paste any block of text from any file into colab, assign it to the variable `text`, and then use wordlist=text.split() to get a list of words."
      ],
      "metadata": {
        "id": "cHcYHBcNu65y"
      }
    },
    {
      "cell_type": "markdown",
      "source": [
        "## Bonus:\n",
        "\n",
        "Recall the following recursive function that we used to define the Fibonacci numbers:"
      ],
      "metadata": {
        "id": "SOZ_vzwJoG45"
      }
    },
    {
      "cell_type": "code",
      "source": [
        "def fibonacci(n):\n",
        "  if n == 0:\n",
        "    return 0\n",
        "  elif n == 1:\n",
        "    return 1\n",
        "    return fibonacci(n - 1) + fibonacci(n - 2)\n"
      ],
      "metadata": {
        "id": "KTj2L--_oQDu"
      },
      "execution_count": null,
      "outputs": []
    },
    {
      "cell_type": "markdown",
      "source": [
        "Here is the question.  If you run this line of code:  \n",
        "`fibonacci(17)`  \n",
        "how many times does the function `fibonacci()` get called?  \n",
        "(The answer is not 1597, which is the value returned by the function.)"
      ],
      "metadata": {
        "id": "C-PtiPKwod0m"
      }
    },
    {
      "cell_type": "code",
      "source": [
        "def fibonacci(n, calls=0):\n",
        "    calls += 1\n",
        "\n",
        "    if n == 0:\n",
        "        return 0, calls\n",
        "    elif n == 1:\n",
        "        return 1, calls\n",
        "    else:\n",
        "        fib_n_1, calls = fibonacci(n - 1, calls)\n",
        "        fib_n_2, calls = fibonacci(n - 2, calls)\n",
        "        return fib_n_1 + fib_n_2, calls\n",
        "\n",
        "result, function_calls = fibonacci(17)\n",
        "print(\"Function calls:\", function_calls)"
      ],
      "metadata": {
        "colab": {
          "base_uri": "https://localhost:8080/"
        },
        "id": "ZrOQFTB-t95j",
        "outputId": "5a219c59-ed2c-42dc-afa2-b94adb3a4b55"
      },
      "execution_count": 33,
      "outputs": [
        {
          "output_type": "stream",
          "name": "stdout",
          "text": [
            "Function calls: 5167\n"
          ]
        }
      ]
    }
  ]
}