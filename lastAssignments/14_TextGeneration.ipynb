{
  "nbformat": 4,
  "nbformat_minor": 0,
  "metadata": {
    "colab": {
      "provenance": [],
      "include_colab_link": true
    },
    "kernelspec": {
      "name": "python3",
      "display_name": "Python 3"
    },
    "language_info": {
      "name": "python"
    }
  },
  "cells": [
    {
      "cell_type": "markdown",
      "metadata": {
        "id": "view-in-github",
        "colab_type": "text"
      },
      "source": [
        "<a href=\"https://colab.research.google.com/github/SOPHIEMHANNA/DS1002-S24/blob/main/lastAssignments/14_TextGeneration.ipynb\" target=\"_parent\"><img src=\"https://colab.research.google.com/assets/colab-badge.svg\" alt=\"Open In Colab\"/></a>"
      ]
    },
    {
      "cell_type": "markdown",
      "source": [
        "## Final homework assignment:  generating text from a corpus\n",
        "\n",
        "Due Friday 3 May at 5 pm"
      ],
      "metadata": {
        "id": "tWbrZqoW5281"
      }
    },
    {
      "cell_type": "markdown",
      "source": [
        "We begin by loading all of Shakespeare's plays into a text file, and separating them into individual words.  This is made easy by the fact that someone already made a giant text file of these plays for us, and put it online.\n",
        "\n",
        "[Note that by changing the url in the following code chunk, you can load any text file that lives online in this way . . . see below.]\n",
        "\n",
        "Run the following code.  It should output a list of ten words, starting with 'From' and ending with 'rose'."
      ],
      "metadata": {
        "id": "7tMMjgkjF7gk"
      }
    },
    {
      "cell_type": "code",
      "source": [
        "from urllib.request import urlopen            #package for reading info from the web\n",
        "url='https://ocw.mit.edu/ans7870/6/6.006/s08/lecturenotes/files/t8.shakespeare.txt'   #web address\n",
        "text = urlopen(url).read().decode('utf-8')    #open web address, read file, convert to text\n",
        "shakespeare_words=text.split()[1651:]         #split text into words (not including preamble)\n",
        "shakespeare_words[:10]                        #display the first 10 words"
      ],
      "metadata": {
        "id": "PoW71ljm2GS-",
        "colab": {
          "base_uri": "https://localhost:8080/"
        },
        "outputId": "bebb1736-9739-4ea0-b83a-ec0fd13cf767"
      },
      "execution_count": 6,
      "outputs": [
        {
          "output_type": "execute_result",
          "data": {
            "text/plain": [
              "['From',\n",
              " 'fairest',\n",
              " 'creatures',\n",
              " 'we',\n",
              " 'desire',\n",
              " 'increase,',\n",
              " 'That',\n",
              " 'thereby',\n",
              " \"beauty's\",\n",
              " 'rose']"
            ]
          },
          "metadata": {},
          "execution_count": 6
        }
      ]
    },
    {
      "cell_type": "markdown",
      "source": [
        "## 1. `nextwords` practice\n",
        "\n",
        "Create a practice function called `createNextwordsPractice` which takes a list of words called `wordlist` and returns a dictionary called `nextwordsPractice`. The keys of `nextwordsPractice` should be all the words in `wordlist`, and the value for any given key should be a list of all the words that follow the key word somewhere in the original `wordlist`.\n",
        "\n"
      ],
      "metadata": {
        "id": "AIeohQaAHRF8"
      }
    },
    {
      "cell_type": "code",
      "source": [
        "def createNextwordsPractice(wordlist):\n",
        "    nextwordsPractice = {}\n",
        "\n",
        "    for i in range(len(wordlist) - 1):\n",
        "        if wordlist[i] in nextwordsPractice:\n",
        "            if wordlist[i + 1] not in nextwordsPractice[wordlist[i]]:\n",
        "                nextwordsPractice[wordlist[i]].append(wordlist[i + 1])\n",
        "        else:\n",
        "            nextwordsPractice[wordlist[i]] = [wordlist[i + 1]]\n",
        "\n",
        "    return nextwordsPractice"
      ],
      "metadata": {
        "id": "2XZa2K3C3InW"
      },
      "execution_count": 7,
      "outputs": []
    },
    {
      "cell_type": "markdown",
      "source": [
        "Run the following code:"
      ],
      "metadata": {
        "id": "FH3N2raWjtfd"
      }
    },
    {
      "cell_type": "code",
      "source": [
        "practice = createNextwordsPractice(shakespeare_words)\n",
        "practice['From']"
      ],
      "metadata": {
        "id": "P3M8beYAjiie",
        "colab": {
          "base_uri": "https://localhost:8080/"
        },
        "outputId": "8d05968c-4611-4068-dc4d-f6110d597626"
      },
      "execution_count": 8,
      "outputs": [
        {
          "output_type": "execute_result",
          "data": {
            "text/plain": [
              "['fairest',\n",
              " 'his',\n",
              " 'sullen',\n",
              " 'limits',\n",
              " 'hands',\n",
              " 'whence',\n",
              " 'where',\n",
              " 'me',\n",
              " 'this',\n",
              " 'thy',\n",
              " 'hence',\n",
              " 'thee,',\n",
              " 'you',\n",
              " 'heaven',\n",
              " 'her',\n",
              " 'simple',\n",
              " 'below',\n",
              " 'lowest',\n",
              " 'courtly',\n",
              " 'son',\n",
              " 'the',\n",
              " 'Sicyon,',\n",
              " 'Alexandria',\n",
              " 'Silvius,',\n",
              " 'mine',\n",
              " 'firm',\n",
              " 'Egypt',\n",
              " 'Antony',\n",
              " 'thine',\n",
              " 'that',\n",
              " 'my',\n",
              " 'henceforth',\n",
              " 'tyrant',\n",
              " 'seventeen',\n",
              " 'miserable',\n",
              " 'whom',\n",
              " 'whence,',\n",
              " 'slaves',\n",
              " 'every',\n",
              " 'rascals',\n",
              " \"th'\",\n",
              " 'Rome',\n",
              " 'off',\n",
              " 'these',\n",
              " 'twelve',\n",
              " 'whence?',\n",
              " 'Rome.',\n",
              " 'Gallia',\n",
              " 'fairies',\n",
              " 'most',\n",
              " 'youth',\n",
              " 'whose',\n",
              " 'so',\n",
              " 'one',\n",
              " 'east',\n",
              " 'action',\n",
              " 'Leonati',\n",
              " 'chance',\n",
              " 'south',\n",
              " 'our',\n",
              " 'top',\n",
              " 'me,',\n",
              " 'fashion',\n",
              " 'another',\n",
              " 'Hamlet?',\n",
              " \"Rumour's\",\n",
              " 'a',\n",
              " 'enemies',\n",
              " 'open',\n",
              " \"glist'ring\",\n",
              " 'him,',\n",
              " 'camp',\n",
              " 'helmet',\n",
              " 'him',\n",
              " 'Lionel',\n",
              " 'John',\n",
              " 'famous',\n",
              " 'envious',\n",
              " 'thence',\n",
              " 'bought',\n",
              " 'meaning',\n",
              " \"treason's\",\n",
              " 'such',\n",
              " 'thee',\n",
              " 'Ireland',\n",
              " \"Clifford's\",\n",
              " 'your',\n",
              " 'London',\n",
              " 'Scotland',\n",
              " 'worthy',\n",
              " 'giving',\n",
              " 'France?',\n",
              " 'Ravenspurgh',\n",
              " 'shelves',\n",
              " 'those',\n",
              " 'sincere',\n",
              " 'foreign',\n",
              " 'princes',\n",
              " 'any',\n",
              " 'Ampthill,',\n",
              " 'France',\n",
              " 'first',\n",
              " 'north',\n",
              " 'all',\n",
              " 'forth',\n",
              " 'out',\n",
              " 'which',\n",
              " 'what',\n",
              " 'Goneril',\n",
              " 'seasons',\n",
              " 'tawny',\n",
              " \"reason's\",\n",
              " \"women's\",\n",
              " 'morn',\n",
              " 'Fife,',\n",
              " 'over-credulous',\n",
              " 'too',\n",
              " 'fasting',\n",
              " 'thee;',\n",
              " \"flow'ry\",\n",
              " 'Tripolis,',\n",
              " 'Lisbon,',\n",
              " 'brassy',\n",
              " 'stubborn',\n",
              " 'both,',\n",
              " 'time',\n",
              " 'Athens',\n",
              " \"lovers'\",\n",
              " 'Perigouna,',\n",
              " 'sleeping',\n",
              " \"monster's\",\n",
              " 'Claudio,',\n",
              " 'men',\n",
              " 'year',\n",
              " 'jealousy!',\n",
              " 'some',\n",
              " \"Richard's\",\n",
              " 'sun',\n",
              " \"plume-pluck'd\",\n",
              " 'cold',\n",
              " 'wayward',\n",
              " 'Tamworth',\n",
              " 'ancient',\n",
              " \"Love's\",\n",
              " 'Florence,',\n",
              " 'bogs,',\n",
              " 'Milan',\n",
              " 'toe',\n",
              " 'eaves',\n",
              " 'strange',\n",
              " 'Isidore:',\n",
              " 'change',\n",
              " \"gen'ral\",\n",
              " 'high',\n",
              " 'Alcibiades',\n",
              " 'niggard',\n",
              " 'weary',\n",
              " 'thousand',\n",
              " 'heaven!',\n",
              " 'isles',\n",
              " 'Troy.',\n",
              " \"Cupid's\",\n",
              " 'false',\n",
              " 'certain',\n",
              " 'Troy',\n",
              " 'heart',\n",
              " 'hence,',\n",
              " 'Milan.',\n",
              " 'whom?',\n",
              " 'heartiness,',\n",
              " 'east,',\n",
              " 'course',\n",
              " \"Dis's\"]"
            ]
          },
          "metadata": {},
          "execution_count": 8
        }
      ]
    },
    {
      "cell_type": "code",
      "source": [
        "practice['rose']"
      ],
      "metadata": {
        "id": "W5FCOXElICLb",
        "colab": {
          "base_uri": "https://localhost:8080/"
        },
        "outputId": "f3e10250-8712-41c3-9327-062042550b48"
      },
      "execution_count": 9,
      "outputs": [
        {
          "output_type": "execute_result",
          "data": {
            "text/plain": [
              "['might',\n",
              " 'looks',\n",
              " 'is',\n",
              " 'of',\n",
              " 'Of',\n",
              " 'may',\n",
              " 'will',\n",
              " 'From',\n",
              " 'and',\n",
              " 'both',\n",
              " 'with',\n",
              " 'from',\n",
              " 'side.',\n",
              " 'red,',\n",
              " 'too.',\n",
              " 'in',\n",
              " 'a',\n",
              " 'I',\n",
              " 'against',\n",
              " 'that',\n",
              " 'again,',\n",
              " 'Lest',\n",
              " 'Than',\n",
              " \"distill'd\",\n",
              " 'on',\n",
              " 'up',\n",
              " 'wither.',\n",
              " 'By',\n",
              " 'again?',\n",
              " 'he']"
            ]
          },
          "metadata": {},
          "execution_count": 9
        }
      ]
    },
    {
      "cell_type": "code",
      "source": [
        "practice['rose.']"
      ],
      "metadata": {
        "id": "Vr57wNx5BO4K",
        "colab": {
          "base_uri": "https://localhost:8080/"
        },
        "outputId": "cfc7f253-c13c-4933-b86e-024061dbfe13"
      },
      "execution_count": 10,
      "outputs": [
        {
          "output_type": "execute_result",
          "data": {
            "text/plain": [
              "['It']"
            ]
          },
          "metadata": {},
          "execution_count": 10
        }
      ]
    },
    {
      "cell_type": "markdown",
      "source": [
        "## 2. `nextwords` for real:  new sentences.\n",
        "\n",
        "Next, write a new function called `createNextwords` which takes a `wordlist` and returns a dictionary of `nextwords`, but now with a new additional feature.  \n",
        "In addition to the keys from problem 1, add a special key to the dictionary, which will be the symbol '%'.  This key will signify the first word of a sentence. When scanning the wordlist to construct the `nextwords` dictionary, normally you would add `wordlist[i+1]` to the list `nextwords[wordlist[i]]`. However, if `wordlist[i]` ends with a period, then you should instead add `wordlist[i+1]` to the list nextwords['%']. Also add the very first word of `wordlist` to nextwords['%'].\n",
        "\n",
        "\n",
        "You should be able to produce this output:\n",
        "```\n",
        "> shakespeare_nextwords=createNextwords(shakespeare_words)\n",
        "> shakespeare_nextwords['Rose']\n",
        "['at', 'or', 'or', 'and']\n",
        "\n",
        "> shakespeare_nextwords['rose.']\n",
        "[]\n",
        "\n",
        "> len(shakespeare_nextwords['%'])\n",
        "76543\n",
        "```"
      ],
      "metadata": {
        "id": "t221x1X3iRVA"
      }
    },
    {
      "cell_type": "code",
      "source": [
        "def createNextwords(wordlist):\n",
        "    nextwords = {}\n",
        "\n",
        "    for i in range(len(wordlist)-1):\n",
        "        word = wordlist[i]\n",
        "        next_word = wordlist[i+1]\n",
        "\n",
        "        if word not in nextwords:\n",
        "            nextwords[word] = []\n",
        "        if word.endswith('.'):\n",
        "            if '%' not in nextwords:\n",
        "                nextwords['%'] = []\n",
        "            nextwords['%'].append(next_word)\n",
        "        else:\n",
        "            nextwords[word].append(next_word)\n",
        "\n",
        "    if wordlist:\n",
        "        if '%' not in nextwords:\n",
        "            nextwords['%'] = []\n",
        "        nextwords['%'].append(wordlist[0])\n",
        "\n",
        "    return nextwords"
      ],
      "metadata": {
        "id": "Ze_-Uv2alRWX"
      },
      "execution_count": 11,
      "outputs": []
    },
    {
      "cell_type": "markdown",
      "source": [
        "Run the following code:"
      ],
      "metadata": {
        "id": "x7bamoxBlX6Q"
      }
    },
    {
      "cell_type": "code",
      "source": [
        "shakespeare_nextwords = createNextwords(shakespeare_words)\n",
        "\n",
        "print(shakespeare_nextwords['Rose'])\n",
        "print(len(shakespeare_nextwords['%']))"
      ],
      "metadata": {
        "id": "xv4ANlzvlZ2e",
        "colab": {
          "base_uri": "https://localhost:8080/"
        },
        "outputId": "0edb7c04-bcb8-4e49-e3ca-ca54d1701554"
      },
      "execution_count": 12,
      "outputs": [
        {
          "output_type": "stream",
          "name": "stdout",
          "text": [
            "['at', 'or', 'or', 'and']\n",
            "76543\n"
          ]
        }
      ]
    },
    {
      "cell_type": "code",
      "source": [
        "print(len(shakespeare_nextwords['rose']))"
      ],
      "metadata": {
        "id": "NsLW7PYYCj1r",
        "colab": {
          "base_uri": "https://localhost:8080/"
        },
        "outputId": "b638341c-17b9-4720-f056-d6b1e800cfb7"
      },
      "execution_count": 13,
      "outputs": [
        {
          "output_type": "stream",
          "name": "stdout",
          "text": [
            "40\n"
          ]
        }
      ]
    },
    {
      "cell_type": "code",
      "source": [
        "print(shakespeare_nextwords['rose.'])"
      ],
      "metadata": {
        "id": "NyjLxUKiIPqG",
        "colab": {
          "base_uri": "https://localhost:8080/"
        },
        "outputId": "93cc3a63-6cf2-48e5-e86c-4c98a9e24f35"
      },
      "execution_count": 14,
      "outputs": [
        {
          "output_type": "stream",
          "name": "stdout",
          "text": [
            "[]\n"
          ]
        }
      ]
    },
    {
      "cell_type": "markdown",
      "source": [
        "## 3.  Make your own Shakespeare play\n",
        "\n",
        "Okay, that may be a bit of an exaggeration.  Anyway, next up is text generation.  \n",
        "We'll need the choice function:"
      ],
      "metadata": {
        "id": "BCIAfYSIX3VC"
      }
    },
    {
      "cell_type": "code",
      "source": [
        "from random import choice"
      ],
      "metadata": {
        "id": "rbBHDv55Biae"
      },
      "execution_count": 16,
      "outputs": []
    },
    {
      "cell_type": "markdown",
      "source": [
        "This function chooses a random element from a list.  Run this code a few times:"
      ],
      "metadata": {
        "id": "-vCM3Z0BmAw9"
      }
    },
    {
      "cell_type": "code",
      "source": [
        "choice([1, 17, 34, 289])"
      ],
      "metadata": {
        "colab": {
          "base_uri": "https://localhost:8080/"
        },
        "id": "FGMf-UmAl_uf",
        "outputId": "23b55a34-106d-4dea-cd13-74a66079c76b"
      },
      "execution_count": 17,
      "outputs": [
        {
          "output_type": "execute_result",
          "data": {
            "text/plain": [
              "1"
            ]
          },
          "metadata": {},
          "execution_count": 17
        }
      ]
    },
    {
      "cell_type": "markdown",
      "source": [
        "Now, create a function called `makePlay(nextwords,n)` which takes a dictionary `nextwords` and a number `n`, and follows these steps:\n",
        "1. Define an empty `newplay` string.  (I did this for you.)\n",
        "2. Set `currentword` equal to '%'.\n",
        "3. Start a for-loop that will run `n` times.\n",
        "4. Randomly choose a word from the list `nextwords[currentword]`.\n",
        "5. Add the chosen word to `newplay`, followed by a space `' '` character.\n",
        "6. If the chosen word ends in a period, add a newline character '\\n' and set `currentword` equal to `%`.\n",
        "7. Otherwise, set `currentword` equal to the chosen word.\n",
        "8. Go back to step 4.\n",
        "9. When all `n` iterations have finished, your function should return `newplay`."
      ],
      "metadata": {
        "id": "ZmLqxclQYMpl"
      }
    },
    {
      "cell_type": "code",
      "source": [
        "import random\n",
        "\n",
        "def makePlay(nextwords, n):\n",
        "    newplay = ''\n",
        "    currentword = '%'\n",
        "\n",
        "    for _ in range(n):\n",
        "        chosen_word = random.choice(nextwords[currentword])\n",
        "\n",
        "        newplay += chosen_word + ' '\n",
        "\n",
        "        if chosen_word.endswith('.'):\n",
        "            newplay += '\\n'\n",
        "            currentword = '%'\n",
        "        else:\n",
        "            currentword = chosen_word\n",
        "\n",
        "    return newplay"
      ],
      "metadata": {
        "id": "gMxDF-MiYqD2"
      },
      "execution_count": 18,
      "outputs": []
    },
    {
      "cell_type": "markdown",
      "source": [
        "Now create a 1000 word Shakesperian play by running the following code:"
      ],
      "metadata": {
        "id": "v_uCxqDZtuhP"
      }
    },
    {
      "cell_type": "code",
      "source": [
        "nextwords=createNextwords(shakespeare_words)\n",
        "newplay=makePlay(nextwords,1000)\n",
        "print(newplay)"
      ],
      "metadata": {
        "id": "KVtzPXWWEdDR",
        "colab": {
          "base_uri": "https://localhost:8080/"
        },
        "outputId": "ce765d9f-99d6-4109-d786-1b1ca2f63877"
      },
      "execution_count": 19,
      "outputs": [
        {
          "output_type": "stream",
          "name": "stdout",
          "text": [
            "ORLANDO. \n",
            "PISTOL. \n",
            "Enter a heavy hand. \n",
            "I may privilage your mother; hear thee too. \n",
            "Indeed, sir, very good. \n",
            "Rey. \n",
            "This chain ANGELO. \n",
            "PROHIBITED COMMERCIAL DISTRIBUTION INCLUDES BY PROJECT GUTENBERG ETEXT OF SYRACUSE. \n",
            "RICHARD PLANTAGENET, DUKE OF ILLINOIS BENEDICTINE COLLEGE WITH PERMISSION. \n",
            "Exeunt ACT_3|SC_5 SCENE II. \n",
            "MACDUFF. \n",
            "This morning have your neaf, Mounsieur Mustardseed. \n",
            "QUEEN ELIZABETH, LORD CHIEF JUSTICE. \n",
            "What, wouldst thou wouldst be saved The beachy girdle break. \n",
            "O, were lock'd into the earth Unless you miss of Pythagoras That even now. \n",
            "[Aside] He shall, If from her years, For certain to Bartholomew my heart To satisfy me. \n",
            "The rest 'gainst the Florentine war; And straight The tongues Be it but Casca. \n",
            "Look, here alone, Ascribe we have been The apparition comes. \n",
            "THIRD CITIZEN. \n",
            "Let's from seeming, free. \n",
            "ANTIPHOLUS OFEPHESUS. \n",
            "Anything, my son was by depart. \n",
            "Yet that this treaty.- You know the love The love alone. \n",
            "We do not offend, himself with's hand, whose right gypsy hath ever know the labouring men'; and two Dukes of God knows not desire All this time. \n",
            "Ham. \n",
            "FIRST GENTLEMAN. \n",
            "[Kisses her.] Beat. \n",
            "But, in Antium? CITIZEN. \n",
            "Exit DUCHESS. \n",
            "How is slain. \n",
            "Do your present wars Between the law of such amazes That they last, Before PRIAM'S palace Enter SILVIA JULIA. \n",
            "By Jupiter, and popular? KING RICHARD. \n",
            "ADRIANA. \n",
            "Sir, I learned man. \n",
            "Most holy head. \n",
            "Withal obdurate, open The action of the court-word for that This drum and Princes and as having done me drunk, sick, my sword and ceremonious vows kept; for all faith was not stir abroad, carousing till it to remember With my way the picture or no? Alas, good manners, Sir John did remember; but love, day up, That welcome to my muse brings the course; where, Messala, Lucilius, When vantage of you find a brother and fifty yet is That shall have beaten voluntary. \n",
            "DROMIO OF ILLINOIS BENEDICTINE COLLEGE WITH PERMISSION. \n",
            "Ham. \n",
            "Pray you, and the King and led you the bearers take your own by th' hearing; Nor from the heels than this. \n",
            "MESSALA. \n",
            "A prosperous art And thereupon pawn his service. \n",
            "And we'll do so. \n",
            "Edg. \n",
            "You would not Romeo hath love Till your own tears are you have on the BRITONS fly; They are so. \n",
            "CORIOLANUS. \n",
            "What should know the general. \n",
            "But, O, how now, Patroclus? ACHILLES. \n",
            "CASSIUS. \n",
            "Him in Signior Benedick, [Beatrice,] Margaret, For they may then have we find him to make him a foot. \n",
            "Rumour is disposed; therefore be at your lordly nation till I grant this night being not go; we swear. \n",
            "If he is not right; but a thing that which I fear thy sickly guard; Yet, spaniel-like, the world And precious in her enamell'd stones, and his death. \n",
            "Alack, bareheaded? Gracious my hate him, but as you the man In that no indirect crook'd ways of England! model to me, never. \n",
            "KING JOHN. \n",
            "Tell o'er with a power; Both your kindred of your honourable trial. \n",
            "Taurus! TAURUS. \n",
            "Whiles I have entrance, as 'tis not be.' And who bring a happy in some life I should be more offices this one door, sweating labour Of force a precious loss. \n",
            "Exeunt, bearing them both; a property. \n",
            "There's fresher gentlewoman? STEWARD. \n",
            "Why, this bosom. \n",
            "Tell me, Sir William Bulmer- KING. \n",
            "Follow me thy self so loosely slighted, Behold this his and unlike himself? Mess. \n",
            "Ay, and His bark at all. \n",
            "I do his frowns- Prithee, fair acceptance bounteous, And never saw him a frenzy do not hold me to know she is without these twain. \n",
            "I do; How happily enough, since my storm-beaten face, Therefore we lay that you were twenty be Regent; I am out of what news? BUSHY. \n",
            "If to weep, The breath Already at a soldier; and bear it, and our son That were born, friend? Hath spoken for your grave and OTHERS PERSONAL USE ONLY, AND (2) ARE FOR MEMBERSHIP.>> ACT IV BONA, his ugliest mask To Scotland; which, that love thee. \n",
            "Peace, ho! IAGO. \n",
            "Fidele, sir. \n",
            "TALBOT. \n",
            "EVANS. \n",
            "Meet what art the word, Mounseur Mockwater. \n",
            "No, as oil, to me. \n",
            "His wife, once before this my soul, for because thou never heard he be delivered over to as a child. \n",
            "PANDARUS. \n",
            "PETRUCHIO. \n",
            "And will, will undo a very sorrow. \n",
            "PROHIBITED COMMERCIAL DISTRIBUTION INCLUDES BY PROJECT GUTENBERG ETEXT OF WESTMINSTER, and so fitted In shape so prone. \n",
            "AJAX. \n",
            "Pedro. \n",
            "What foul linen for rapes and poor, decayed, ingenious, they ride in eight tall fellow, Which thou hast a scurvy fellow. \n",
            "By this consequence. \n",
            "By this sin In undeserved fault is three reprieves for we some little grace, and distempering draughts, Upon the law; and, with her guardage to be something hard for his own lips. \n",
            "CAMILLO. \n",
            "You must come in the heavenly eloquence. \n",
            "Discover more true applause, and at the mightiest of my lord. \n",
            "The measure, time, that trusts to us all together transshape thy love of her name and I will you must not like? MRS. \n",
            "Are near Windsor way, Which of so estimable, profitable labour, sir. \n",
            "Mistress, your action That ever read, With a man. \n",
            "When thou find her, for thy conscience, Like very noble birth, vigour of water keep his faults of you! They that woman but here's Gloucester A cutpurse of our plot She may, The rather, good horse have marvellous witty fool to cozen fortune, honor To lay my dear love, But Saturnine? Full fifteen hundred years bring thee place. \n",
            "CAMBRIDGE. \n",
            "I tell him and case ye! Come from Th' Ear, Taste, Touch, Smell, pleas'd To tell you say you? CASSIUS. \n",
            "Heard many curses in your good to see cause. \n",
            "I will by hanging About her not? BRUTUS. \n",
            "Look on lily and as we shall live, I were more proud Italy, Always a serpent by policy To be adopted heir To make division of revenge. \n",
            "Doug. \n",
            "Come, Somerset, Have patience, I am full of ladies! you but between Troy To weep this remembrance- that set it for a great creation ecstasy of your sons To fight with your daughter to you; from our \n"
          ]
        }
      ]
    },
    {
      "cell_type": "markdown",
      "source": [
        "At this point you might enjoy finding other sources of text on the internet and replacing the url at the top of this notebook. You can use song lyrics, news articles, etc. You just need to find files ending with '.txt'. Alternatively, you can copy and paste any block of text from any file into colab, assign it to the variable `text`, and then use wordlist=text.split() to get a list of words."
      ],
      "metadata": {
        "id": "cHcYHBcNu65y"
      }
    },
    {
      "cell_type": "markdown",
      "source": [
        "## Bonus:\n",
        "\n",
        "Recall the following recursive function that we used to define the Fibonacci numbers:"
      ],
      "metadata": {
        "id": "SOZ_vzwJoG45"
      }
    },
    {
      "cell_type": "code",
      "source": [
        "def fibonacci(n):\n",
        "  if n == 0:\n",
        "    return 0\n",
        "  elif n == 1:\n",
        "    return 1\n",
        "    return fibonacci(n - 1) + fibonacci(n - 2)\n"
      ],
      "metadata": {
        "id": "KTj2L--_oQDu"
      },
      "execution_count": 20,
      "outputs": []
    },
    {
      "cell_type": "markdown",
      "source": [
        "Here is the question.  If you run this line of code:  \n",
        "`fibonacci(17)`  \n",
        "how many times does the function `fibonacci()` get called?  \n",
        "(The answer is not 1597, which is the value returned by the function.)"
      ],
      "metadata": {
        "id": "C-PtiPKwod0m"
      }
    },
    {
      "cell_type": "code",
      "source": [
        "def fibonacci(n, calls=0):\n",
        "    calls += 1\n",
        "\n",
        "    if n == 0:\n",
        "        return 0, calls\n",
        "    elif n == 1:\n",
        "        return 1, calls\n",
        "    else:\n",
        "        fib_n_1, calls = fibonacci(n - 1, calls)\n",
        "        fib_n_2, calls = fibonacci(n - 2, calls)\n",
        "        return fib_n_1 + fib_n_2, calls\n",
        "\n",
        "result, function_calls = fibonacci(17)\n",
        "print(\"Function calls:\", function_calls)"
      ],
      "metadata": {
        "colab": {
          "base_uri": "https://localhost:8080/"
        },
        "id": "ZrOQFTB-t95j",
        "outputId": "18a5c486-73db-41b4-cb55-60db5e6ac8d6"
      },
      "execution_count": 21,
      "outputs": [
        {
          "output_type": "stream",
          "name": "stdout",
          "text": [
            "Function calls: 5167\n"
          ]
        }
      ]
    }
  ]
}